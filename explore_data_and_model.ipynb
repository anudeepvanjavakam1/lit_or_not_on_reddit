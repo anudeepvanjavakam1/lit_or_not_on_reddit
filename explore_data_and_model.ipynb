{
 "cells": [
  {
   "cell_type": "markdown",
   "metadata": {},
   "source": [
    "High-level overview\n",
    "Description of Input Data\n",
    "Strategy for solving the problem\n",
    "Discussion of the expected solution\n",
    "Metrics with justification\n",
    "EDA\n",
    "Data Preprocessing\n",
    "Modeling\n",
    "Hyperparameter Tuning\n",
    "Results\n",
    "Comparison Table\n",
    "Conclusion\n",
    "Improvements\n",
    "Acknowledgment"
   ]
  },
  {
   "cell_type": "code",
   "execution_count": null,
   "metadata": {
    "vscode": {
     "languageId": "plaintext"
    }
   },
   "outputs": [],
   "source": [
    "Model\tExamples\tTasks\n",
    "Encoder\tALBERT, BERT, DistilBERT, ELECTRA, RoBERTa\tSentence classification, named entity recognition, extractive question answering\n",
    "Decoder\tCTRL, GPT, GPT-2, Transformer XL\tText generation\n",
    "Encoder-decoder\tBART, T5, Marian, mBART\tSummarization, translation, generative question answering"
   ]
  },
  {
   "cell_type": "code",
   "execution_count": null,
   "metadata": {
    "vscode": {
     "languageId": "plaintext"
    }
   },
   "outputs": [],
   "source": [
    "Extractive Summarization: The extractive approach selects the most important phrases and lines from your documents. It then combines all the important lines to create a summary. So, in this case, every line and word of the summary actually belongs to the original.\n",
    "\n",
    "Abstractive Summarization: This approach uses new phrases and terms that are different from the original document, keeping the meaning the same, just like how humans do in summarization. So, it is much harder than the extractive approach."
   ]
  }
 ],
 "metadata": {
  "language_info": {
   "name": "python"
  },
  "orig_nbformat": 4
 },
 "nbformat": 4,
 "nbformat_minor": 2
}
