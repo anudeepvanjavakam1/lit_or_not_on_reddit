{
 "cells": [
  {
   "cell_type": "code",
   "execution_count": 26,
   "metadata": {},
   "outputs": [
    {
     "name": "stderr",
     "output_type": "stream",
     "text": [
      "[nltk_data] Downloading package vader_lexicon to\n",
      "[nltk_data]     C:\\Users\\avanjavakam\\AppData\\Roaming\\nltk_data...\n",
      "[nltk_data]   Package vader_lexicon is already up-to-date!\n"
     ]
    }
   ],
   "source": [
    "# For gathering data from reddit\n",
    "import praw # Python Reddit API Wrapper\n",
    "from praw.models import MoreComments\n",
    "\n",
    "import pandas as pd\n",
    "import nltk\n",
    "from nltk.corpus import stopwords\n",
    "from nltk.tokenize import RegexpTokenizer\n",
    "from nltk.stem import WordNetLemmatizer, PorterStemmer\n",
    "from nltk import FreqDist\n",
    "nltk.downloader.download('vader_lexicon')\n",
    "from nltk.sentiment.vader import SentimentIntensityAnalyzer as SIA\n",
    "import re # Remove links\n",
    "import en_core_web_sm\n",
    "import spacy\n",
    "\n",
    "import os\n",
    "from dotenv import load_dotenv\n",
    "\n",
    "# for visualization\n",
    "import seaborn as sns\n",
    "sns.set(style = 'whitegrid', palette = 'Dark2')\n",
    "import matplotlib.pyplot as plt\n",
    "from wordcloud import WordCloud, get_single_color_func\n",
    "import plotly.express as px\n"
   ]
  },
  {
   "cell_type": "code",
   "execution_count": 27,
   "metadata": {},
   "outputs": [
    {
     "name": "stdout",
     "output_type": "stream",
     "text": [
      "The dotenv extension is already loaded. To reload it, use:\n",
      "  %reload_ext dotenv\n"
     ]
    },
    {
     "data": {
      "text/plain": [
       "<praw.reddit.Reddit at 0x2902c200b80>"
      ]
     },
     "execution_count": 27,
     "metadata": {},
     "output_type": "execute_result"
    }
   ],
   "source": [
    "# loading development settings for Reddit API\n",
    "%load_ext dotenv\n",
    "%dotenv\n",
    "\n",
    "# Create a reddit connection with reddit API details\n",
    "reddit = praw.Reddit(client_id = os.getenv(\"CLIENT_ID\"),\n",
    "                     client_secret = os.getenv(\"CLIENT_SECRET\"),\n",
    "                     user_agent = os.getenv(\"USER_AGENT\"))\n",
    "reddit"
   ]
  },
  {
   "cell_type": "code",
   "execution_count": 28,
   "metadata": {},
   "outputs": [
    {
     "name": "stdout",
     "output_type": "stream",
     "text": [
      "0.77\n",
      "13718\n",
      "Hi, I’m Anthony Palma, founder of Jump, the “Netflix of Indie Games” service that launched on Tuesday. AMA!\n",
      "Submission ID =  71iy3w \n",
      "\n",
      "0.95\n",
      "13516\n",
      "Regal Cinemas Unlimited Ticket Subscription Program Set To Launch This Month\n",
      "Submission ID =  c80yte \n",
      "\n",
      "0.93\n",
      "12384\n",
      "If you use Alexa, make sure \"she\" didn't subscribe you to AmazonMusic Unlimited without your knowledge!\n",
      "Submission ID =  c3bx74 \n",
      "\n",
      "0.98\n",
      "11880\n",
      "YSK many Companies Are Offering Free Services And/Or Waiving Fees Due to the quarantine. Here’s a Full List\n",
      "Submission ID =  fpdxob \n",
      "\n",
      "0.98\n",
      "8653\n",
      "[Home Crafting] When a company tried to make a bunch of stay at home moms pay rent to use a machine they already own during a global pandemic\n",
      "Submission ID =  mmmcy7 \n",
      "\n",
      "0.9\n",
      "8088\n",
      "I saved 88% on coffee insurance by switching to Panera (from Starbucks)\n",
      "Submission ID =  ildmel \n",
      "\n",
      "0.99\n",
      "8027\n",
      "[Web Media] Critical Role and Orion Acaba: How to get kicked out of what is now Twitch's most successful channel so hard, people don't even know you were part of the show\n",
      "Submission ID =  q5c2xf \n",
      "\n",
      "0.88\n",
      "7972\n",
      "I Dared My Best Friend to Ruin My Life - He's Succeeding [Part 7]\n",
      "Submission ID =  4qzu9h \n",
      "\n",
      "0.98\n",
      "6664\n",
      "AITAH for suggesting to my wife that we kick out our daughter and son-in-law?\n",
      "Submission ID =  12yeuzo \n",
      "\n",
      "0.92\n",
      "5443\n",
      "Stealing my gf's wifi strained (or ended?) their relationship...\n",
      "Submission ID =  sgf497 \n",
      "\n",
      "0.95\n",
      "5159\n",
      "Vote with your dollars.\n",
      "Submission ID =  1099h4y \n",
      "\n",
      "1.0\n",
      "4991\n",
      "Master List: I Compiled and Ranked Every Major Studying Resource for A+, Network+, and Security+ Here!\n",
      "Submission ID =  i7hx4t \n",
      "\n",
      "0.96\n",
      "4538\n",
      "I put out a Craigslist ad for a new roommate to ward off my stalker and avoid violating my lease. My new roommate might be a demon. (Part 2)\n",
      "Submission ID =  a01n6u \n",
      "\n",
      "0.99\n",
      "4266\n",
      "8Gbps internet in Canada. Wtf...\n",
      "Submission ID =  xsccsy \n",
      "\n",
      "0.92\n",
      "3588\n",
      "GoPro could be a turnaround company $GPRO (value $15.95 vs price $8.78)\n",
      "Submission ID =  sm0vql \n",
      "\n",
      "0.97\n",
      "3473\n",
      "New TV service subscription is to my liking so I want to refund.\n",
      "Submission ID =  p140g4 \n",
      "\n",
      "0.93\n",
      "3253\n",
      "They know. Just adding to the voice. Weekly player/DM since 1994. Honestly not sure if I will ever go back even if they fix this mess. Will you guys?\n",
      "Submission ID =  10ckdts \n",
      "\n",
      "0.99\n",
      "3191\n",
      "I’ve compiled all the low-cost medical resources everyone shared in the comments of my last post. Hope it’s useful.\n",
      "Submission ID =  elryxp \n",
      "\n",
      "0.95\n",
      "3156\n",
      "Thanks to reddit, my app, Weather on the Way has been downloaded over 30k times. Today I’m launching a first big update!\n",
      "Submission ID =  lzoci4 \n",
      "\n",
      "0.87\n",
      "2739\n",
      "Amazon launches Its book Subscription Service, Kindle Unlimited in Australia.\n",
      "Submission ID =  5cjsva \n",
      "\n"
     ]
    },
    {
     "data": {
      "text/plain": [
       "['71iy3w',\n",
       " 'c80yte',\n",
       " 'c3bx74',\n",
       " 'fpdxob',\n",
       " 'mmmcy7',\n",
       " 'ildmel',\n",
       " 'q5c2xf',\n",
       " '4qzu9h',\n",
       " '12yeuzo',\n",
       " 'sgf497',\n",
       " '1099h4y',\n",
       " 'i7hx4t',\n",
       " 'a01n6u',\n",
       " 'xsccsy',\n",
       " 'sm0vql',\n",
       " 'p140g4',\n",
       " '10ckdts',\n",
       " 'elryxp',\n",
       " 'lzoci4',\n",
       " '5cjsva']"
      ]
     },
     "execution_count": 28,
     "metadata": {},
     "output_type": "execute_result"
    }
   ],
   "source": [
    "subreddit = reddit.subreddit('all')\n",
    "submissions_list = []\n",
    "search_term = \"regal unlimited subscription\"\n",
    "# search popular subreddits for reviews and get first 3 posts\n",
    "for submission in subreddit.search(search_term,limit = 20,sort='top'):\n",
    "\n",
    "    #print(submission.likes)\n",
    "    #print(submission.num_comments)\n",
    "    #print(submission.subreddit_subscribers)\n",
    "    #print(submission.view_count)\n",
    "    print(submission.upvote_ratio)\n",
    "    print(submission.score)    \n",
    "    print(submission.title)\n",
    "       \n",
    "    print('Submission ID = ', submission.id, '\\n')\n",
    "    submissions_list.append(submission.id)\n",
    "submissions_list"
   ]
  },
  {
   "cell_type": "code",
   "execution_count": 29,
   "metadata": {},
   "outputs": [],
   "source": [
    "\n",
    "#top = subreddit.search(search_term,limit = 20,sort='top').top(params={'t': 'all'}, limit=25) # For a more potentially accurate set of top comments, increase the limit (but it'll take longer)\n",
    "posts = dict()\n",
    "all_comments = []\n",
    "comments_body = []\n",
    "top_comments_body = {}\n",
    "    \n",
    "# search all subreddits and get comments from top posts\n",
    "for submission in subreddit.search(search_term, limit = 5, sort='relevance'):\n",
    "    # sort comments by 'best' (which is default mode we see when using reddit)\n",
    "    submission.comment_sort = 'best'\n",
    "\n",
    "    # This line is required in case we need commentForest (includes replies tree)\n",
    "    # or else there would be an error if we do not replace moreComments.\n",
    "    submission.comments.replace_more(limit = None)\n",
    "\n",
    "    # exlclude bot posts/advertised posts \n",
    "    if not submission.stickied:\n",
    "\n",
    "        # add original post text to the posts dictionary\n",
    "        posts[submission.selftext] = submission.score\n",
    "\n",
    "        # for each post, get top level comments (no replies, no commentForest)\n",
    "        #if top_level_comments_only:\n",
    "        real_comments = [comment for comment in list(submission.comments)]\n",
    "        # for comments and replies (includes commentForest)\n",
    "        #else:                \n",
    "            #real_comments = [comment for comment in submission.comments.list()]            \n",
    "        all_comments += real_comments\n",
    "# if the search term found any posts on reddit search\n",
    "if posts:\n",
    "    # sort all comments by no. of upvotes\n",
    "    all_comments.sort(key=lambda comment: comment.score, reverse=True)\n",
    "\n",
    "    # store top n comments with most no. of upvotes\n",
    "    top_comments = all_comments[:5] #top 5 comments\n",
    "\n",
    "    for comment in top_comments:\n",
    "        top_comments_body[comment.body] = comment.score\n",
    "\n",
    "    for comment in all_comments:\n",
    "        comments_body.append(comment.body)\n",
    "\n",
    "    for text, score in posts.items():    \n",
    "        # add post texts to comments body\n",
    "        comments_body.append(text)\n",
    "else:\n",
    "    print('No posts found! Please enter another search term')\n",
    "        \n",
    "\n"
   ]
  },
  {
   "cell_type": "code",
   "execution_count": 30,
   "metadata": {},
   "outputs": [
    {
     "name": "stdout",
     "output_type": "stream",
     "text": [
      "['automatically', 'go', 'month', 'month', 'end', '3', 'month', 'signup', 'fan', 'run', 'sub', 'don', 't', 'work', 'regal', '100', 'want', 'direct', 'complaint', 'cancellation', 'request', 'c', 'fastest', 'way', 'facebook', 'messenger', 'twitter', 'typically', '24', 'hour', 'cancelled', 'agree', 'suck', 'wish', 'cancel', 'button', 'don', 't', 'repeatedly', 'address', 'best', 'luck', 'd', 'appreciate', 'directing', 'legal', 'question', 'correct', 'sub', 'like', 'r', 'legaladvice', 'maybe', 'best', 'use', 'everyday', 'week', 'week', 'saw', 'blow', 'pipeline', 'suzume', 'renfield', 'john', 'wick', 'chapter', '4', 'beau', 'afraid', 'm', 'seeing', 'return', 'jedi', 'tomorrow', 'account', 'tied', 'single', 'device', 's', 'kind', 'hard', 'gift', 'surprise', 'd', 'steal', 'phone', 'steal', 'phone', 'set', 'wouldn', 't', 'need', 'id', 'picture', 'pick', 'photo', 'phone', 's', 'storage', 'best', 'way', 'gift', 'unlimited', 'gift', 'card', 'walk', 'setting', 'gift', 'card', 'payment', 'regular', 'gift', 'card', 'way', 'doesn', 't', 'need', 'unlimited', 'gift', 'card', 'offer', 'want', 'sent', '$50', 'e', 'gift', 'card', '90', 'day', 'promo', 'gift', 'told', 'sign', '90', 'day', 'promo', 'pay', '3', 'month', 'month', 'free', 'pay', '2', 'month', 'gc', 'fully', 'cover', 'told', 'need', 'credit', 'card', 'file', 'sign', 'use', 'gift', 'card', 'pay', 'subscription', 'sign', 'll', 'let', 'know', 'go', 'received', 'gift', 'card', 'plan', 'sign', 'later', 'today', 'nice', 'perk', '$10', 'concession', 'gc', 'sent', 'use', '1', '1', '22', 'p', 'heck', 'time', 'completing', 'gift', 'card', 'order', '1st', 'attempt', 'said', 'order', 'declined', 'ridiculous', 'online', 'bank', 'statement', 'charge', 'gone', 'immediately', 'credited', 'regal', 'charged', 'thing', 'second', 'attempt', 'attempt', 'decided', 'yes', 'receiving', 'promotional', 'info', 'went', 'sure', 'difference', 'thing', 'correct', 'change', 'previous', '2', 'attempt', 'frustrating', 'thought', 'd', 'warn', 'case', 'experience', 'issue', 'regal', 'unlimited', 'amc', 'list', 'great', 'depends', 'theater', 'prefer', 'regal', 'better', 'seating', 'amc', 'nice', 'dolby', 'imax', 'theater', 'stated', 'll', 'turn', 'month', 'month', 'note', 's', 'month', 'feel', 'like', 'going', 'movie', 'll', 'month', 'month', 'cancel', 'subscription', 'movie', 'd', 'drive', '45min', 'slow', 'year', 'd', 'fully', 'cancel', 'signup', 'minimum', '3months', 'later', 's', 'awesome', 'live', 'close', 'regal', 'theatre', 'time', 'shill', 'generally', 'money', 'worth', 'film', 'month', 'like', 'thread', 'hit', 'theater', 'week', 'seek', 'certain', 'imax', 'showing', 's', '$6', 'surcharge', 'great', 'service', 'amc', 'list', 'service', 'good', 'premium', 'pricing', 'regal', 'hasn', 't', 'adopted', 'practice', 'mean', 'yea', 's', 'good', 'deal', '$0.53', 'convenience', 'fee', 'time', 'use', 'annoying', 'af', 'black', 'friday', 'deal', 'unlimited', 'know', 'want', 'option', 'regal', 'unlimited', 'egift', 'card', 'reason', 'buying', 'printing', 'wouldn', 't', 'work', 'amc', 'list', '$21.99', 'drive', 'columbia', 'deal', 'guy', 'regal', 's', 'subscription', 'service', 'thinking', 'getting', 'look', 'like', 'great', 'deal', 'regular', 'moviegoer', 'review', 'tried', 'hi', 'signed', '3', 'month', 'regal', 'subscription', 'ending', 'day', 'like', 'continue', 'having', 'subscription', 'm', 'moving', 'month', 'location', 'regal', 'theatre', 'like', '45', 'mile', 'radius', 'able', '3', 'month', 'subscription', 'instead', 'signing', '12', 'month', 'commitment', 'shouldn', 't', 'class', 'actionable', 'offense', 'thought', 'ftc', 'rule', 'business', 'making', 'difficult', 'cancel', 'reoccurring', 'subscription', 'fact', 'email', 'cancel', 'regal', 'unlimited', 'subscription', 'suspicious', 'potentially', 'nefarious', 'contact', 'info', 'readily', 'available', 'fact', 'm', 'pretty', 'sure', 'actively', 'bury', 'information', 'scroll', 'bylaw', 'find', 'contact', 'info', 'cancel', 'subscription', 'regal', 'contact', 'link', 'drop', 'box', 'option', 'canceled', 'subscription', 'pretty', 'suspicious', 'id', 'sign', 'regal', 'unlimited', 'gifting', 'regal', 'unlimited', 's', 'like', 'photo', 'id', 'kind', 'want', 'surprise']\n",
      "number of words =  457\n"
     ]
    }
   ],
   "source": [
    "# Pre-processing comments\n",
    "\n",
    "# convert to a string object\n",
    "# map to a list of strings\n",
    "strings_all = [str(i) for i in comments_body]\n",
    "# join all strings spearated by a commma\n",
    "strings_uncleaned = ' , '.join(strings_all)\n",
    "strings_uncleaned\n",
    "\n",
    "# tokenizing and cleaning strings\n",
    "tokenizer = RegexpTokenizer('\\w+|\\$[\\d\\.]+|http\\S+')\n",
    "tokenized_string = tokenizer.tokenize(strings_uncleaned)\n",
    "\n",
    "# converting all tokens to lowercase\n",
    "tokenized_string_lower = [word.lower() for word in tokenized_string]\n",
    "\n",
    "# removing stop words\n",
    "nlp = en_core_web_sm.load()\n",
    "all_stopwords = nlp.Defaults.stop_words\n",
    "tokens_without_stopwords = [word for word in tokenized_string_lower if not word in all_stopwords]\n",
    "\n",
    "# stemming might return a root word that is not an actual word\n",
    "# whereas, lemmatizing returns a root word that is an actual language word.\n",
    "# let's normalize words via lemmatizing\n",
    "lemmatizer = WordNetLemmatizer()\n",
    "\n",
    "lemmatized_tokens = ([lemmatizer.lemmatize(w) for w in tokens_without_stopwords])\n",
    "print(lemmatized_tokens)\n",
    "\n",
    "print(\"number of words = \", len(lemmatized_tokens))\n"
   ]
  },
  {
   "cell_type": "code",
   "execution_count": 31,
   "metadata": {},
   "outputs": [
    {
     "data": {
      "text/html": [
       "<div>\n",
       "<style scoped>\n",
       "    .dataframe tbody tr th:only-of-type {\n",
       "        vertical-align: middle;\n",
       "    }\n",
       "\n",
       "    .dataframe tbody tr th {\n",
       "        vertical-align: top;\n",
       "    }\n",
       "\n",
       "    .dataframe thead th {\n",
       "        text-align: right;\n",
       "    }\n",
       "</style>\n",
       "<table border=\"1\" class=\"dataframe\">\n",
       "  <thead>\n",
       "    <tr style=\"text-align: right;\">\n",
       "      <th></th>\n",
       "      <th>neg</th>\n",
       "      <th>neu</th>\n",
       "      <th>pos</th>\n",
       "      <th>compound</th>\n",
       "      <th>words</th>\n",
       "    </tr>\n",
       "  </thead>\n",
       "  <tbody>\n",
       "    <tr>\n",
       "      <th>0</th>\n",
       "      <td>0.0</td>\n",
       "      <td>1.0</td>\n",
       "      <td>0.0</td>\n",
       "      <td>0.0000</td>\n",
       "      <td>automatically</td>\n",
       "    </tr>\n",
       "    <tr>\n",
       "      <th>1</th>\n",
       "      <td>0.0</td>\n",
       "      <td>1.0</td>\n",
       "      <td>0.0</td>\n",
       "      <td>0.0000</td>\n",
       "      <td>go</td>\n",
       "    </tr>\n",
       "    <tr>\n",
       "      <th>2</th>\n",
       "      <td>0.0</td>\n",
       "      <td>1.0</td>\n",
       "      <td>0.0</td>\n",
       "      <td>0.0000</td>\n",
       "      <td>month</td>\n",
       "    </tr>\n",
       "    <tr>\n",
       "      <th>3</th>\n",
       "      <td>0.0</td>\n",
       "      <td>1.0</td>\n",
       "      <td>0.0</td>\n",
       "      <td>0.0000</td>\n",
       "      <td>month</td>\n",
       "    </tr>\n",
       "    <tr>\n",
       "      <th>4</th>\n",
       "      <td>0.0</td>\n",
       "      <td>1.0</td>\n",
       "      <td>0.0</td>\n",
       "      <td>0.0000</td>\n",
       "      <td>end</td>\n",
       "    </tr>\n",
       "    <tr>\n",
       "      <th>...</th>\n",
       "      <td>...</td>\n",
       "      <td>...</td>\n",
       "      <td>...</td>\n",
       "      <td>...</td>\n",
       "      <td>...</td>\n",
       "    </tr>\n",
       "    <tr>\n",
       "      <th>452</th>\n",
       "      <td>0.0</td>\n",
       "      <td>1.0</td>\n",
       "      <td>0.0</td>\n",
       "      <td>0.0000</td>\n",
       "      <td>photo</td>\n",
       "    </tr>\n",
       "    <tr>\n",
       "      <th>453</th>\n",
       "      <td>0.0</td>\n",
       "      <td>1.0</td>\n",
       "      <td>0.0</td>\n",
       "      <td>0.0000</td>\n",
       "      <td>id</td>\n",
       "    </tr>\n",
       "    <tr>\n",
       "      <th>454</th>\n",
       "      <td>0.0</td>\n",
       "      <td>0.0</td>\n",
       "      <td>1.0</td>\n",
       "      <td>0.5267</td>\n",
       "      <td>kind</td>\n",
       "    </tr>\n",
       "    <tr>\n",
       "      <th>455</th>\n",
       "      <td>0.0</td>\n",
       "      <td>0.0</td>\n",
       "      <td>1.0</td>\n",
       "      <td>0.0772</td>\n",
       "      <td>want</td>\n",
       "    </tr>\n",
       "    <tr>\n",
       "      <th>456</th>\n",
       "      <td>0.0</td>\n",
       "      <td>0.0</td>\n",
       "      <td>1.0</td>\n",
       "      <td>0.2732</td>\n",
       "      <td>surprise</td>\n",
       "    </tr>\n",
       "  </tbody>\n",
       "</table>\n",
       "<p>457 rows × 5 columns</p>\n",
       "</div>"
      ],
      "text/plain": [
       "     neg  neu  pos  compound          words\n",
       "0    0.0  1.0  0.0    0.0000  automatically\n",
       "1    0.0  1.0  0.0    0.0000             go\n",
       "2    0.0  1.0  0.0    0.0000          month\n",
       "3    0.0  1.0  0.0    0.0000          month\n",
       "4    0.0  1.0  0.0    0.0000            end\n",
       "..   ...  ...  ...       ...            ...\n",
       "452  0.0  1.0  0.0    0.0000          photo\n",
       "453  0.0  1.0  0.0    0.0000             id\n",
       "454  0.0  0.0  1.0    0.5267           kind\n",
       "455  0.0  0.0  1.0    0.0772           want\n",
       "456  0.0  0.0  1.0    0.2732       surprise\n",
       "\n",
       "[457 rows x 5 columns]"
      ]
     },
     "execution_count": 31,
     "metadata": {},
     "output_type": "execute_result"
    }
   ],
   "source": [
    "# Applying a sentiment analyzer (VADER)\n",
    "sia = SIA()\n",
    "results = []\n",
    "\n",
    "# get polarity score for words\n",
    "for word in lemmatized_tokens:\n",
    "    pol_score = sia.polarity_scores(word)\n",
    "    pol_score['words'] = word\n",
    "    results.append(pol_score)\n",
    "results\n",
    "\n",
    "pd.set_option('display.max_columns', None, 'max_colwidth', None)\n",
    "df = pd.DataFrame.from_records(results)\n",
    "df"
   ]
  },
  {
   "cell_type": "code",
   "execution_count": 32,
   "metadata": {},
   "outputs": [
    {
     "data": {
      "text/html": [
       "<div>\n",
       "<style scoped>\n",
       "    .dataframe tbody tr th:only-of-type {\n",
       "        vertical-align: middle;\n",
       "    }\n",
       "\n",
       "    .dataframe tbody tr th {\n",
       "        vertical-align: top;\n",
       "    }\n",
       "\n",
       "    .dataframe thead th {\n",
       "        text-align: right;\n",
       "    }\n",
       "</style>\n",
       "<table border=\"1\" class=\"dataframe\">\n",
       "  <thead>\n",
       "    <tr style=\"text-align: right;\">\n",
       "      <th></th>\n",
       "      <th>neg</th>\n",
       "      <th>neu</th>\n",
       "      <th>pos</th>\n",
       "      <th>compound</th>\n",
       "      <th>words</th>\n",
       "      <th>label</th>\n",
       "    </tr>\n",
       "  </thead>\n",
       "  <tbody>\n",
       "    <tr>\n",
       "      <th>0</th>\n",
       "      <td>0.0</td>\n",
       "      <td>1.0</td>\n",
       "      <td>0.0</td>\n",
       "      <td>0.0</td>\n",
       "      <td>automatically</td>\n",
       "      <td>0</td>\n",
       "    </tr>\n",
       "    <tr>\n",
       "      <th>1</th>\n",
       "      <td>0.0</td>\n",
       "      <td>1.0</td>\n",
       "      <td>0.0</td>\n",
       "      <td>0.0</td>\n",
       "      <td>go</td>\n",
       "      <td>0</td>\n",
       "    </tr>\n",
       "    <tr>\n",
       "      <th>2</th>\n",
       "      <td>0.0</td>\n",
       "      <td>1.0</td>\n",
       "      <td>0.0</td>\n",
       "      <td>0.0</td>\n",
       "      <td>month</td>\n",
       "      <td>0</td>\n",
       "    </tr>\n",
       "    <tr>\n",
       "      <th>3</th>\n",
       "      <td>0.0</td>\n",
       "      <td>1.0</td>\n",
       "      <td>0.0</td>\n",
       "      <td>0.0</td>\n",
       "      <td>month</td>\n",
       "      <td>0</td>\n",
       "    </tr>\n",
       "    <tr>\n",
       "      <th>4</th>\n",
       "      <td>0.0</td>\n",
       "      <td>1.0</td>\n",
       "      <td>0.0</td>\n",
       "      <td>0.0</td>\n",
       "      <td>end</td>\n",
       "      <td>0</td>\n",
       "    </tr>\n",
       "  </tbody>\n",
       "</table>\n",
       "</div>"
      ],
      "text/plain": [
       "   neg  neu  pos  compound          words  label\n",
       "0  0.0  1.0  0.0       0.0  automatically      0\n",
       "1  0.0  1.0  0.0       0.0             go      0\n",
       "2  0.0  1.0  0.0       0.0          month      0\n",
       "3  0.0  1.0  0.0       0.0          month      0\n",
       "4  0.0  1.0  0.0       0.0            end      0"
      ]
     },
     "execution_count": 32,
     "metadata": {},
     "output_type": "execute_result"
    }
   ],
   "source": [
    "# compound score as seen above is a normalized single unideimensional measure of sentiment for a given word.\n",
    "# adding a label column\n",
    "df['label'] = 0 # neutral\n",
    "df.loc[df['compound'] > 0.10, 'label'] = 1 # positive\n",
    "df.loc[df['compound'] < -0.10, 'label'] = -1 # negative\n",
    "df.head()"
   ]
  },
  {
   "cell_type": "code",
   "execution_count": 33,
   "metadata": {},
   "outputs": [
    {
     "data": {
      "text/plain": [
       " 0    380\n",
       " 1     52\n",
       "-1     25\n",
       "Name: label, dtype: int64"
      ]
     },
     "execution_count": 33,
     "metadata": {},
     "output_type": "execute_result"
    }
   ],
   "source": [
    "# how many words are neutral (0), positive (1) and negative (-1) in sentiment\n",
    "df.label.value_counts()"
   ]
  },
  {
   "attachments": {},
   "cell_type": "markdown",
   "metadata": {},
   "source": [
    "Most of them are neutral. Comments seem to be neutral - positive skewed.There are only 2 negative words.\n"
   ]
  },
  {
   "cell_type": "code",
   "execution_count": 34,
   "metadata": {},
   "outputs": [
    {
     "data": {
      "text/html": [
       "<div>\n",
       "<style scoped>\n",
       "    .dataframe tbody tr th:only-of-type {\n",
       "        vertical-align: middle;\n",
       "    }\n",
       "\n",
       "    .dataframe tbody tr th {\n",
       "        vertical-align: top;\n",
       "    }\n",
       "\n",
       "    .dataframe thead th {\n",
       "        text-align: right;\n",
       "    }\n",
       "</style>\n",
       "<table border=\"1\" class=\"dataframe\">\n",
       "  <thead>\n",
       "    <tr style=\"text-align: right;\">\n",
       "      <th></th>\n",
       "      <th>neg</th>\n",
       "      <th>neu</th>\n",
       "      <th>pos</th>\n",
       "      <th>compound</th>\n",
       "      <th>words</th>\n",
       "      <th>label</th>\n",
       "    </tr>\n",
       "  </thead>\n",
       "  <tbody>\n",
       "    <tr>\n",
       "      <th>18</th>\n",
       "      <td>1.0</td>\n",
       "      <td>0.0</td>\n",
       "      <td>0.0</td>\n",
       "      <td>-0.2960</td>\n",
       "      <td>complaint</td>\n",
       "      <td>-1</td>\n",
       "    </tr>\n",
       "    <tr>\n",
       "      <th>30</th>\n",
       "      <td>1.0</td>\n",
       "      <td>0.0</td>\n",
       "      <td>0.0</td>\n",
       "      <td>-0.2500</td>\n",
       "      <td>cancelled</td>\n",
       "      <td>-1</td>\n",
       "    </tr>\n",
       "    <tr>\n",
       "      <th>32</th>\n",
       "      <td>1.0</td>\n",
       "      <td>0.0</td>\n",
       "      <td>0.0</td>\n",
       "      <td>-0.4404</td>\n",
       "      <td>suck</td>\n",
       "      <td>-1</td>\n",
       "    </tr>\n",
       "    <tr>\n",
       "      <th>34</th>\n",
       "      <td>1.0</td>\n",
       "      <td>0.0</td>\n",
       "      <td>0.0</td>\n",
       "      <td>-0.2500</td>\n",
       "      <td>cancel</td>\n",
       "      <td>-1</td>\n",
       "    </tr>\n",
       "    <tr>\n",
       "      <th>80</th>\n",
       "      <td>1.0</td>\n",
       "      <td>0.0</td>\n",
       "      <td>0.0</td>\n",
       "      <td>-0.1027</td>\n",
       "      <td>hard</td>\n",
       "      <td>-1</td>\n",
       "    </tr>\n",
       "    <tr>\n",
       "      <th>84</th>\n",
       "      <td>1.0</td>\n",
       "      <td>0.0</td>\n",
       "      <td>0.0</td>\n",
       "      <td>-0.4939</td>\n",
       "      <td>steal</td>\n",
       "      <td>-1</td>\n",
       "    </tr>\n",
       "    <tr>\n",
       "      <th>86</th>\n",
       "      <td>1.0</td>\n",
       "      <td>0.0</td>\n",
       "      <td>0.0</td>\n",
       "      <td>-0.4939</td>\n",
       "      <td>steal</td>\n",
       "      <td>-1</td>\n",
       "    </tr>\n",
       "    <tr>\n",
       "      <th>136</th>\n",
       "      <td>1.0</td>\n",
       "      <td>0.0</td>\n",
       "      <td>0.0</td>\n",
       "      <td>-0.1027</td>\n",
       "      <td>pay</td>\n",
       "      <td>-1</td>\n",
       "    </tr>\n",
       "    <tr>\n",
       "      <th>141</th>\n",
       "      <td>1.0</td>\n",
       "      <td>0.0</td>\n",
       "      <td>0.0</td>\n",
       "      <td>-0.1027</td>\n",
       "      <td>pay</td>\n",
       "      <td>-1</td>\n",
       "    </tr>\n",
       "    <tr>\n",
       "      <th>156</th>\n",
       "      <td>1.0</td>\n",
       "      <td>0.0</td>\n",
       "      <td>0.0</td>\n",
       "      <td>-0.1027</td>\n",
       "      <td>pay</td>\n",
       "      <td>-1</td>\n",
       "    </tr>\n",
       "    <tr>\n",
       "      <th>192</th>\n",
       "      <td>1.0</td>\n",
       "      <td>0.0</td>\n",
       "      <td>0.0</td>\n",
       "      <td>-0.3612</td>\n",
       "      <td>ridiculous</td>\n",
       "      <td>-1</td>\n",
       "    </tr>\n",
       "    <tr>\n",
       "      <th>201</th>\n",
       "      <td>1.0</td>\n",
       "      <td>0.0</td>\n",
       "      <td>0.0</td>\n",
       "      <td>-0.2023</td>\n",
       "      <td>charged</td>\n",
       "      <td>-1</td>\n",
       "    </tr>\n",
       "    <tr>\n",
       "      <th>220</th>\n",
       "      <td>1.0</td>\n",
       "      <td>0.0</td>\n",
       "      <td>0.0</td>\n",
       "      <td>-0.4404</td>\n",
       "      <td>frustrating</td>\n",
       "      <td>-1</td>\n",
       "    </tr>\n",
       "    <tr>\n",
       "      <th>223</th>\n",
       "      <td>1.0</td>\n",
       "      <td>0.0</td>\n",
       "      <td>0.0</td>\n",
       "      <td>-0.1027</td>\n",
       "      <td>warn</td>\n",
       "      <td>-1</td>\n",
       "    </tr>\n",
       "    <tr>\n",
       "      <th>258</th>\n",
       "      <td>1.0</td>\n",
       "      <td>0.0</td>\n",
       "      <td>0.0</td>\n",
       "      <td>-0.2500</td>\n",
       "      <td>cancel</td>\n",
       "      <td>-1</td>\n",
       "    </tr>\n",
       "    <tr>\n",
       "      <th>268</th>\n",
       "      <td>1.0</td>\n",
       "      <td>0.0</td>\n",
       "      <td>0.0</td>\n",
       "      <td>-0.2500</td>\n",
       "      <td>cancel</td>\n",
       "      <td>-1</td>\n",
       "    </tr>\n",
       "    <tr>\n",
       "      <th>321</th>\n",
       "      <td>1.0</td>\n",
       "      <td>0.0</td>\n",
       "      <td>0.0</td>\n",
       "      <td>-0.4019</td>\n",
       "      <td>annoying</td>\n",
       "      <td>-1</td>\n",
       "    </tr>\n",
       "    <tr>\n",
       "      <th>396</th>\n",
       "      <td>1.0</td>\n",
       "      <td>0.0</td>\n",
       "      <td>0.0</td>\n",
       "      <td>-0.2500</td>\n",
       "      <td>offense</td>\n",
       "      <td>-1</td>\n",
       "    </tr>\n",
       "    <tr>\n",
       "      <th>402</th>\n",
       "      <td>1.0</td>\n",
       "      <td>0.0</td>\n",
       "      <td>0.0</td>\n",
       "      <td>-0.3612</td>\n",
       "      <td>difficult</td>\n",
       "      <td>-1</td>\n",
       "    </tr>\n",
       "    <tr>\n",
       "      <th>403</th>\n",
       "      <td>1.0</td>\n",
       "      <td>0.0</td>\n",
       "      <td>0.0</td>\n",
       "      <td>-0.2500</td>\n",
       "      <td>cancel</td>\n",
       "      <td>-1</td>\n",
       "    </tr>\n",
       "    <tr>\n",
       "      <th>408</th>\n",
       "      <td>1.0</td>\n",
       "      <td>0.0</td>\n",
       "      <td>0.0</td>\n",
       "      <td>-0.2500</td>\n",
       "      <td>cancel</td>\n",
       "      <td>-1</td>\n",
       "    </tr>\n",
       "    <tr>\n",
       "      <th>412</th>\n",
       "      <td>1.0</td>\n",
       "      <td>0.0</td>\n",
       "      <td>0.0</td>\n",
       "      <td>-0.3612</td>\n",
       "      <td>suspicious</td>\n",
       "      <td>-1</td>\n",
       "    </tr>\n",
       "    <tr>\n",
       "      <th>431</th>\n",
       "      <td>1.0</td>\n",
       "      <td>0.0</td>\n",
       "      <td>0.0</td>\n",
       "      <td>-0.2500</td>\n",
       "      <td>cancel</td>\n",
       "      <td>-1</td>\n",
       "    </tr>\n",
       "    <tr>\n",
       "      <th>436</th>\n",
       "      <td>1.0</td>\n",
       "      <td>0.0</td>\n",
       "      <td>0.0</td>\n",
       "      <td>-0.2732</td>\n",
       "      <td>drop</td>\n",
       "      <td>-1</td>\n",
       "    </tr>\n",
       "    <tr>\n",
       "      <th>442</th>\n",
       "      <td>1.0</td>\n",
       "      <td>0.0</td>\n",
       "      <td>0.0</td>\n",
       "      <td>-0.3612</td>\n",
       "      <td>suspicious</td>\n",
       "      <td>-1</td>\n",
       "    </tr>\n",
       "  </tbody>\n",
       "</table>\n",
       "</div>"
      ],
      "text/plain": [
       "     neg  neu  pos  compound        words  label\n",
       "18   1.0  0.0  0.0   -0.2960    complaint     -1\n",
       "30   1.0  0.0  0.0   -0.2500    cancelled     -1\n",
       "32   1.0  0.0  0.0   -0.4404         suck     -1\n",
       "34   1.0  0.0  0.0   -0.2500       cancel     -1\n",
       "80   1.0  0.0  0.0   -0.1027         hard     -1\n",
       "84   1.0  0.0  0.0   -0.4939        steal     -1\n",
       "86   1.0  0.0  0.0   -0.4939        steal     -1\n",
       "136  1.0  0.0  0.0   -0.1027          pay     -1\n",
       "141  1.0  0.0  0.0   -0.1027          pay     -1\n",
       "156  1.0  0.0  0.0   -0.1027          pay     -1\n",
       "192  1.0  0.0  0.0   -0.3612   ridiculous     -1\n",
       "201  1.0  0.0  0.0   -0.2023      charged     -1\n",
       "220  1.0  0.0  0.0   -0.4404  frustrating     -1\n",
       "223  1.0  0.0  0.0   -0.1027         warn     -1\n",
       "258  1.0  0.0  0.0   -0.2500       cancel     -1\n",
       "268  1.0  0.0  0.0   -0.2500       cancel     -1\n",
       "321  1.0  0.0  0.0   -0.4019     annoying     -1\n",
       "396  1.0  0.0  0.0   -0.2500      offense     -1\n",
       "402  1.0  0.0  0.0   -0.3612    difficult     -1\n",
       "403  1.0  0.0  0.0   -0.2500       cancel     -1\n",
       "408  1.0  0.0  0.0   -0.2500       cancel     -1\n",
       "412  1.0  0.0  0.0   -0.3612   suspicious     -1\n",
       "431  1.0  0.0  0.0   -0.2500       cancel     -1\n",
       "436  1.0  0.0  0.0   -0.2732         drop     -1\n",
       "442  1.0  0.0  0.0   -0.3612   suspicious     -1"
      ]
     },
     "execution_count": 34,
     "metadata": {},
     "output_type": "execute_result"
    }
   ],
   "source": [
    "# let's look at negative words\n",
    "df[df['label']== -1]"
   ]
  },
  {
   "cell_type": "code",
   "execution_count": 35,
   "metadata": {},
   "outputs": [
    {
     "data": {
      "text/plain": [
       "matplotlib.figure.Figure"
      ]
     },
     "execution_count": 35,
     "metadata": {},
     "output_type": "execute_result"
    },
    {
     "data": {
      "image/png": "[encoded data removed]",
      "text/plain": [
       "<Figure size 800x800 with 1 Axes>"
      ]
     },
     "metadata": {},
     "output_type": "display_data"
    }
   ],
   "source": [
    "# let's look at how many positive and negative words are found\n",
    "\n",
    "fig, ax = plt.subplots(figsize = (8,8))\n",
    "\n",
    "counts = df.loc[df['label'] != 0]['label'].value_counts(normalize=True) * 100\n",
    "\n",
    "sns.barplot(x = counts.index, y = counts, ax = ax)\n",
    "\n",
    "ax.set_xticklabels(['Negative', 'Positive'])\n",
    "ax.set_ylabel(\"Percentage\")\n",
    "type(fig)"
   ]
  },
  {
   "cell_type": "code",
   "execution_count": 36,
   "metadata": {},
   "outputs": [
    {
     "name": "stdout",
     "output_type": "stream",
     "text": [
      " 1    67.532468\n",
      "-1    32.467532\n",
      "Name: label, dtype: float64\n",
      " 1    67.532468\n",
      "-1    32.467532\n",
      "Name: label, dtype: float64\n"
     ]
    }
   ],
   "source": [
    "# get percentage of postive and negative words in all the comments \n",
    "sentiment_perc_of_words = df.loc[df['label'] != 0]['label'].value_counts(normalize=True) * 100\n",
    "\n",
    "print(sentiment_perc_of_words)\n",
    "if sentiment_perc_of_words[1] == 100:\n",
    "    sentiment_perc_of_words[-1] = 0\n",
    "if sentiment_perc_of_words[-1] == 100:\n",
    "    sentiment_perc_of_words[1] = 0\n",
    "\n",
    "print(sentiment_perc_of_words)\n",
    "\n",
    "#print(round(sentiment_perc_of_words[1],2))\n",
    "#print(round(sentiment_perc_of_words[-1],2))\n"
   ]
  },
  {
   "cell_type": "code",
   "execution_count": 37,
   "metadata": {},
   "outputs": [
    {
     "data": {
      "text/plain": [
       "FreqDist({'gift': 11, 'like': 7, 'best': 3, 'great': 3, 'kind': 2, 'surprise': 2, 'nice': 2, 'sure': 2, 'good': 2, 'pretty': 2, ...})"
      ]
     },
     "execution_count": 37,
     "metadata": {},
     "output_type": "execute_result"
    }
   ],
   "source": [
    "# Frequency distribution of the 20 most common positive words\n",
    "frequent_pos_words = FreqDist(df.loc[df['label'] == 1].words)\n",
    "frequent_pos_words\n"
   ]
  },
  {
   "cell_type": "code",
   "execution_count": 38,
   "metadata": {},
   "outputs": [
    {
     "data": {
      "text/plain": [
       "52"
      ]
     },
     "execution_count": 38,
     "metadata": {},
     "output_type": "execute_result"
    }
   ],
   "source": [
    "sum(frequent_pos_words.values())"
   ]
  },
  {
   "cell_type": "code",
   "execution_count": 39,
   "metadata": {},
   "outputs": [
    {
     "data": {
      "text/plain": [
       "[('cancel', 6),\n",
       " ('pay', 3),\n",
       " ('steal', 2),\n",
       " ('suspicious', 2),\n",
       " ('complaint', 1),\n",
       " ('cancelled', 1),\n",
       " ('suck', 1),\n",
       " ('hard', 1),\n",
       " ('ridiculous', 1),\n",
       " ('charged', 1),\n",
       " ('frustrating', 1),\n",
       " ('warn', 1),\n",
       " ('annoying', 1),\n",
       " ('offense', 1),\n",
       " ('difficult', 1),\n",
       " ('drop', 1)]"
      ]
     },
     "execution_count": 39,
     "metadata": {},
     "output_type": "execute_result"
    }
   ],
   "source": [
    "# Frequency distribution of the 20 most common negative words\n",
    "frequent_neg_words = FreqDist(df.loc[df['label'] == -1].words)\n",
    "frequent_neg_words.most_common(20)"
   ]
  },
  {
   "cell_type": "code",
   "execution_count": 40,
   "metadata": {},
   "outputs": [
    {
     "data": {
      "text/plain": [
       "{'green': ['fan',\n",
       "  'agree',\n",
       "  'wish',\n",
       "  'best',\n",
       "  'luck',\n",
       "  'appreciate',\n",
       "  'legal',\n",
       "  'like',\n",
       "  'best',\n",
       "  'kind',\n",
       "  'gift',\n",
       "  'surprise',\n",
       "  'best',\n",
       "  'gift',\n",
       "  'gift',\n",
       "  'gift',\n",
       "  'gift',\n",
       "  'gift',\n",
       "  'gift',\n",
       "  'gift',\n",
       "  'free',\n",
       "  'credit',\n",
       "  'gift',\n",
       "  'gift',\n",
       "  'nice',\n",
       "  'gift',\n",
       "  'credited',\n",
       "  'yes',\n",
       "  'sure',\n",
       "  'great',\n",
       "  'better',\n",
       "  'nice',\n",
       "  'like',\n",
       "  'awesome',\n",
       "  'worth',\n",
       "  'like',\n",
       "  'certain',\n",
       "  'great',\n",
       "  'good',\n",
       "  'good',\n",
       "  'like',\n",
       "  'great',\n",
       "  'like',\n",
       "  'like',\n",
       "  'commitment',\n",
       "  'pretty',\n",
       "  'sure',\n",
       "  'actively',\n",
       "  'pretty',\n",
       "  'like',\n",
       "  'kind',\n",
       "  'surprise'],\n",
       " 'red': ['complaint',\n",
       "  'cancelled',\n",
       "  'suck',\n",
       "  'cancel',\n",
       "  'hard',\n",
       "  'steal',\n",
       "  'steal',\n",
       "  'pay',\n",
       "  'pay',\n",
       "  'pay',\n",
       "  'ridiculous',\n",
       "  'charged',\n",
       "  'frustrating',\n",
       "  'warn',\n",
       "  'cancel',\n",
       "  'cancel',\n",
       "  'annoying',\n",
       "  'offense',\n",
       "  'difficult',\n",
       "  'cancel',\n",
       "  'cancel',\n",
       "  'suspicious',\n",
       "  'cancel',\n",
       "  'drop',\n",
       "  'suspicious']}"
      ]
     },
     "execution_count": 40,
     "metadata": {},
     "output_type": "execute_result"
    }
   ],
   "source": [
    "color_words_dict = {\n",
    "    'green': list(df.loc[df['label'] == 1].words),\n",
    "    'red': list(df.loc[df['label'] == -1].words)\n",
    "}\n",
    "\n",
    "# neutral words are grey\n",
    "default_color = 'grey'\n",
    "color_words_dict"
   ]
  },
  {
   "cell_type": "code",
   "execution_count": 41,
   "metadata": {},
   "outputs": [],
   "source": [
    "class SimpleGroupedColorFunc(object):\n",
    "    def __init__(self, color_to_words, default_color):\n",
    "        self.word_to_color = {word: color\n",
    "                              for (color, words) in color_to_words.items()\n",
    "                              for word in words}\n",
    "\n",
    "        self.default_color = default_color\n",
    "\n",
    "    def __call__(self, word, **kwargs):\n",
    "        return self.word_to_color.get(word, self.default_color)"
   ]
  },
  {
   "cell_type": "code",
   "execution_count": 42,
   "metadata": {},
   "outputs": [
    {
     "data": {
      "image/png": "[encoded data removed]",
      "text/plain": [
       "<Figure size 640x480 with 1 Axes>"
      ]
     },
     "metadata": {},
     "output_type": "display_data"
    }
   ],
   "source": [
    "wc = WordCloud(collocations=False, background_color='white').generate_from_frequencies(frequencies=FreqDist(df.words))\n",
    "\n",
    "grouped_color_func = SimpleGroupedColorFunc(color_words_dict, default_color)\n",
    "wc.recolor(color_func=grouped_color_func)\n",
    "plt.figure()\n",
    "plt.imshow(wc, interpolation='bilinear')\n",
    "plt.axis('off')\n",
    "plt.show()"
   ]
  },
  {
   "cell_type": "code",
   "execution_count": 43,
   "metadata": {},
   "outputs": [
    {
     "data": {
      "application/vnd.plotly.v1+json": {
       "config": {
        "plotlyServerURL": "https://plot.ly"
       },
       "data": [
        {
         "alignmentgroup": "True",
         "hovertemplate": "Bar Graph of Frequent Positive Words=%{x}<br>Count=%{y}<extra></extra>",
         "legendgroup": "",
         "marker": {
          "color": "#636efa",
          "pattern": {
           "shape": ""
          }
         },
         "name": "",
         "offsetgroup": "",
         "orientation": "v",
         "showlegend": false,
         "textposition": "auto",
         "type": "bar",
         "x": [
          "gift",
          "like",
          "best",
          "great",
          "kind",
          "surprise",
          "nice",
          "sure",
          "good",
          "pretty",
          "fan",
          "agree",
          "wish",
          "luck",
          "appreciate",
          "legal",
          "free",
          "credit",
          "credited",
          "yes"
         ],
         "xaxis": "x",
         "y": [
          11,
          7,
          3,
          3,
          2,
          2,
          2,
          2,
          2,
          2,
          1,
          1,
          1,
          1,
          1,
          1,
          1,
          1,
          1,
          1
         ],
         "yaxis": "y"
        }
       ],
       "layout": {
        "barmode": "relative",
        "legend": {
         "tracegroupgap": 0
        },
        "template": {
         "data": {
          "bar": [
           {
            "error_x": {
             "color": "#2a3f5f"
            },
            "error_y": {
             "color": "#2a3f5f"
            },
            "marker": {
             "line": {
              "color": "#E5ECF6",
              "width": 0.5
             },
             "pattern": {
              "fillmode": "overlay",
              "size": 10,
              "solidity": 0.2
             }
            },
            "type": "bar"
           }
          ],
          "barpolar": [
           {
            "marker": {
             "line": {
              "color": "#E5ECF6",
              "width": 0.5
             },
             "pattern": {
              "fillmode": "overlay",
              "size": 10,
              "solidity": 0.2
             }
            },
            "type": "barpolar"
           }
          ],
          "carpet": [
           {
            "aaxis": {
             "endlinecolor": "#2a3f5f",
             "gridcolor": "white",
             "linecolor": "white",
             "minorgridcolor": "white",
             "startlinecolor": "#2a3f5f"
            },
            "baxis": {
             "endlinecolor": "#2a3f5f",
             "gridcolor": "white",
             "linecolor": "white",
             "minorgridcolor": "white",
             "startlinecolor": "#2a3f5f"
            },
            "type": "carpet"
           }
          ],
          "choropleth": [
           {
            "colorbar": {
             "outlinewidth": 0,
             "ticks": ""
            },
            "type": "choropleth"
           }
          ],
          "contour": [
           {
            "colorbar": {
             "outlinewidth": 0,
             "ticks": ""
            },
            "colorscale": [
             [
              0,
              "#0d0887"
             ],
             [
              0.1111111111111111,
              "#46039f"
             ],
             [
              0.2222222222222222,
              "#7201a8"
             ],
             [
              0.3333333333333333,
              "#9c179e"
             ],
             [
              0.4444444444444444,
              "#bd3786"
             ],
             [
              0.5555555555555556,
              "#d8576b"
             ],
             [
              0.6666666666666666,
              "#ed7953"
             ],
             [
              0.7777777777777778,
              "#fb9f3a"
             ],
             [
              0.8888888888888888,
              "#fdca26"
             ],
             [
              1,
              "#f0f921"
             ]
            ],
            "type": "contour"
           }
          ],
          "contourcarpet": [
           {
            "colorbar": {
             "outlinewidth": 0,
             "ticks": ""
            },
            "type": "contourcarpet"
           }
          ],
          "heatmap": [
           {
            "colorbar": {
             "outlinewidth": 0,
             "ticks": ""
            },
            "colorscale": [
             [
              0,
              "#0d0887"
             ],
             [
              0.1111111111111111,
              "#46039f"
             ],
             [
              0.2222222222222222,
              "#7201a8"
             ],
             [
              0.3333333333333333,
              "#9c179e"
             ],
             [
              0.4444444444444444,
              "#bd3786"
             ],
             [
              0.5555555555555556,
              "#d8576b"
             ],
             [
              0.6666666666666666,
              "#ed7953"
             ],
             [
              0.7777777777777778,
              "#fb9f3a"
             ],
             [
              0.8888888888888888,
              "#fdca26"
             ],
             [
              1,
              "#f0f921"
             ]
            ],
            "type": "heatmap"
           }
          ],
          "heatmapgl": [
           {
            "colorbar": {
             "outlinewidth": 0,
             "ticks": ""
            },
            "colorscale": [
             [
              0,
              "#0d0887"
             ],
             [
              0.1111111111111111,
              "#46039f"
             ],
             [
              0.2222222222222222,
              "#7201a8"
             ],
             [
              0.3333333333333333,
              "#9c179e"
             ],
             [
              0.4444444444444444,
              "#bd3786"
             ],
             [
              0.5555555555555556,
              "#d8576b"
             ],
             [
              0.6666666666666666,
              "#ed7953"
             ],
             [
              0.7777777777777778,
              "#fb9f3a"
             ],
             [
              0.8888888888888888,
              "#fdca26"
             ],
             [
              1,
              "#f0f921"
             ]
            ],
            "type": "heatmapgl"
           }
          ],
          "histogram": [
           {
            "marker": {
             "pattern": {
              "fillmode": "overlay",
              "size": 10,
              "solidity": 0.2
             }
            },
            "type": "histogram"
           }
          ],
          "histogram2d": [
           {
            "colorbar": {
             "outlinewidth": 0,
             "ticks": ""
            },
            "colorscale": [
             [
              0,
              "#0d0887"
             ],
             [
              0.1111111111111111,
              "#46039f"
             ],
             [
              0.2222222222222222,
              "#7201a8"
             ],
             [
              0.3333333333333333,
              "#9c179e"
             ],
             [
              0.4444444444444444,
              "#bd3786"
             ],
             [
              0.5555555555555556,
              "#d8576b"
             ],
             [
              0.6666666666666666,
              "#ed7953"
             ],
             [
              0.7777777777777778,
              "#fb9f3a"
             ],
             [
              0.8888888888888888,
              "#fdca26"
             ],
             [
              1,
              "#f0f921"
             ]
            ],
            "type": "histogram2d"
           }
          ],
          "histogram2dcontour": [
           {
            "colorbar": {
             "outlinewidth": 0,
             "ticks": ""
            },
            "colorscale": [
             [
              0,
              "#0d0887"
             ],
             [
              0.1111111111111111,
              "#46039f"
             ],
             [
              0.2222222222222222,
              "#7201a8"
             ],
             [
              0.3333333333333333,
              "#9c179e"
             ],
             [
              0.4444444444444444,
              "#bd3786"
             ],
             [
              0.5555555555555556,
              "#d8576b"
             ],
             [
              0.6666666666666666,
              "#ed7953"
             ],
             [
              0.7777777777777778,
              "#fb9f3a"
             ],
             [
              0.8888888888888888,
              "#fdca26"
             ],
             [
              1,
              "#f0f921"
             ]
            ],
            "type": "histogram2dcontour"
           }
          ],
          "mesh3d": [
           {
            "colorbar": {
             "outlinewidth": 0,
             "ticks": ""
            },
            "type": "mesh3d"
           }
          ],
          "parcoords": [
           {
            "line": {
             "colorbar": {
              "outlinewidth": 0,
              "ticks": ""
             }
            },
            "type": "parcoords"
           }
          ],
          "pie": [
           {
            "automargin": true,
            "type": "pie"
           }
          ],
          "scatter": [
           {
            "fillpattern": {
             "fillmode": "overlay",
             "size": 10,
             "solidity": 0.2
            },
            "type": "scatter"
           }
          ],
          "scatter3d": [
           {
            "line": {
             "colorbar": {
              "outlinewidth": 0,
              "ticks": ""
             }
            },
            "marker": {
             "colorbar": {
              "outlinewidth": 0,
              "ticks": ""
             }
            },
            "type": "scatter3d"
           }
          ],
          "scattercarpet": [
           {
            "marker": {
             "colorbar": {
              "outlinewidth": 0,
              "ticks": ""
             }
            },
            "type": "scattercarpet"
           }
          ],
          "scattergeo": [
           {
            "marker": {
             "colorbar": {
              "outlinewidth": 0,
              "ticks": ""
             }
            },
            "type": "scattergeo"
           }
          ],
          "scattergl": [
           {
            "marker": {
             "colorbar": {
              "outlinewidth": 0,
              "ticks": ""
             }
            },
            "type": "scattergl"
           }
          ],
          "scattermapbox": [
           {
            "marker": {
             "colorbar": {
              "outlinewidth": 0,
              "ticks": ""
             }
            },
            "type": "scattermapbox"
           }
          ],
          "scatterpolar": [
           {
            "marker": {
             "colorbar": {
              "outlinewidth": 0,
              "ticks": ""
             }
            },
            "type": "scatterpolar"
           }
          ],
          "scatterpolargl": [
           {
            "marker": {
             "colorbar": {
              "outlinewidth": 0,
              "ticks": ""
             }
            },
            "type": "scatterpolargl"
           }
          ],
          "scatterternary": [
           {
            "marker": {
             "colorbar": {
              "outlinewidth": 0,
              "ticks": ""
             }
            },
            "type": "scatterternary"
           }
          ],
          "surface": [
           {
            "colorbar": {
             "outlinewidth": 0,
             "ticks": ""
            },
            "colorscale": [
             [
              0,
              "#0d0887"
             ],
             [
              0.1111111111111111,
              "#46039f"
             ],
             [
              0.2222222222222222,
              "#7201a8"
             ],
             [
              0.3333333333333333,
              "#9c179e"
             ],
             [
              0.4444444444444444,
              "#bd3786"
             ],
             [
              0.5555555555555556,
              "#d8576b"
             ],
             [
              0.6666666666666666,
              "#ed7953"
             ],
             [
              0.7777777777777778,
              "#fb9f3a"
             ],
             [
              0.8888888888888888,
              "#fdca26"
             ],
             [
              1,
              "#f0f921"
             ]
            ],
            "type": "surface"
           }
          ],
          "table": [
           {
            "cells": {
             "fill": {
              "color": "#EBF0F8"
             },
             "line": {
              "color": "white"
             }
            },
            "header": {
             "fill": {
              "color": "#C8D4E3"
             },
             "line": {
              "color": "white"
             }
            },
            "type": "table"
           }
          ]
         },
         "layout": {
          "annotationdefaults": {
           "arrowcolor": "#2a3f5f",
           "arrowhead": 0,
           "arrowwidth": 1
          },
          "autotypenumbers": "strict",
          "coloraxis": {
           "colorbar": {
            "outlinewidth": 0,
            "ticks": ""
           }
          },
          "colorscale": {
           "diverging": [
            [
             0,
             "#8e0152"
            ],
            [
             0.1,
             "#c51b7d"
            ],
            [
             0.2,
             "#de77ae"
            ],
            [
             0.3,
             "#f1b6da"
            ],
            [
             0.4,
             "#fde0ef"
            ],
            [
             0.5,
             "#f7f7f7"
            ],
            [
             0.6,
             "#e6f5d0"
            ],
            [
             0.7,
             "#b8e186"
            ],
            [
             0.8,
             "#7fbc41"
            ],
            [
             0.9,
             "#4d9221"
            ],
            [
             1,
             "#276419"
            ]
           ],
           "sequential": [
            [
             0,
             "#0d0887"
            ],
            [
             0.1111111111111111,
             "#46039f"
            ],
            [
             0.2222222222222222,
             "#7201a8"
            ],
            [
             0.3333333333333333,
             "#9c179e"
            ],
            [
             0.4444444444444444,
             "#bd3786"
            ],
            [
             0.5555555555555556,
             "#d8576b"
            ],
            [
             0.6666666666666666,
             "#ed7953"
            ],
            [
             0.7777777777777778,
             "#fb9f3a"
            ],
            [
             0.8888888888888888,
             "#fdca26"
            ],
            [
             1,
             "#f0f921"
            ]
           ],
           "sequentialminus": [
            [
             0,
             "#0d0887"
            ],
            [
             0.1111111111111111,
             "#46039f"
            ],
            [
             0.2222222222222222,
             "#7201a8"
            ],
            [
             0.3333333333333333,
             "#9c179e"
            ],
            [
             0.4444444444444444,
             "#bd3786"
            ],
            [
             0.5555555555555556,
             "#d8576b"
            ],
            [
             0.6666666666666666,
             "#ed7953"
            ],
            [
             0.7777777777777778,
             "#fb9f3a"
            ],
            [
             0.8888888888888888,
             "#fdca26"
            ],
            [
             1,
             "#f0f921"
            ]
           ]
          },
          "colorway": [
           "#636efa",
           "#EF553B",
           "#00cc96",
           "#ab63fa",
           "#FFA15A",
           "#19d3f3",
           "#FF6692",
           "#B6E880",
           "#FF97FF",
           "#FECB52"
          ],
          "font": {
           "color": "#2a3f5f"
          },
          "geo": {
           "bgcolor": "white",
           "lakecolor": "white",
           "landcolor": "#E5ECF6",
           "showlakes": true,
           "showland": true,
           "subunitcolor": "white"
          },
          "hoverlabel": {
           "align": "left"
          },
          "hovermode": "closest",
          "mapbox": {
           "style": "light"
          },
          "paper_bgcolor": "white",
          "plot_bgcolor": "#E5ECF6",
          "polar": {
           "angularaxis": {
            "gridcolor": "white",
            "linecolor": "white",
            "ticks": ""
           },
           "bgcolor": "#E5ECF6",
           "radialaxis": {
            "gridcolor": "white",
            "linecolor": "white",
            "ticks": ""
           }
          },
          "scene": {
           "xaxis": {
            "backgroundcolor": "#E5ECF6",
            "gridcolor": "white",
            "gridwidth": 2,
            "linecolor": "white",
            "showbackground": true,
            "ticks": "",
            "zerolinecolor": "white"
           },
           "yaxis": {
            "backgroundcolor": "#E5ECF6",
            "gridcolor": "white",
            "gridwidth": 2,
            "linecolor": "white",
            "showbackground": true,
            "ticks": "",
            "zerolinecolor": "white"
           },
           "zaxis": {
            "backgroundcolor": "#E5ECF6",
            "gridcolor": "white",
            "gridwidth": 2,
            "linecolor": "white",
            "showbackground": true,
            "ticks": "",
            "zerolinecolor": "white"
           }
          },
          "shapedefaults": {
           "line": {
            "color": "#2a3f5f"
           }
          },
          "ternary": {
           "aaxis": {
            "gridcolor": "white",
            "linecolor": "white",
            "ticks": ""
           },
           "baxis": {
            "gridcolor": "white",
            "linecolor": "white",
            "ticks": ""
           },
           "bgcolor": "#E5ECF6",
           "caxis": {
            "gridcolor": "white",
            "linecolor": "white",
            "ticks": ""
           }
          },
          "title": {
           "x": 0.05
          },
          "xaxis": {
           "automargin": true,
           "gridcolor": "white",
           "linecolor": "white",
           "ticks": "",
           "title": {
            "standoff": 15
           },
           "zerolinecolor": "white",
           "zerolinewidth": 2
          },
          "yaxis": {
           "automargin": true,
           "gridcolor": "white",
           "linecolor": "white",
           "ticks": "",
           "title": {
            "standoff": 15
           },
           "zerolinecolor": "white",
           "zerolinewidth": 2
          }
         }
        },
        "title": {
         "text": "Commonly Used Positive Words Count"
        },
        "xaxis": {
         "anchor": "y",
         "domain": [
          0,
          1
         ],
         "title": {
          "text": "Bar Graph of Frequent Positive Words"
         }
        },
        "yaxis": {
         "anchor": "x",
         "domain": [
          0,
          1
         ],
         "title": {
          "text": "Count"
         }
        }
       }
      }
     },
     "metadata": {},
     "output_type": "display_data"
    }
   ],
   "source": [
    "# how many common words to display\n",
    "no_of_words = 20\n",
    "\n",
    "# Most common positive words\n",
    "pos_freq_df = pd.DataFrame(frequent_pos_words.most_common(no_of_words))\n",
    "pos_freq_df = pos_freq_df.rename(columns = {0: \"Bar Graph of Frequent Positive Words\", 1: \"Count\"}, inplace=False)\n",
    "\n",
    "fig = px.bar(pos_freq_df, x = \"Bar Graph of Frequent Positive Words\", y = \"Count\", title = \"Commonly Used Positive Words Count\")\n",
    "\n",
    "fig.show()"
   ]
  },
  {
   "cell_type": "code",
   "execution_count": 45,
   "metadata": {},
   "outputs": [
    {
     "data": {
      "application/vnd.plotly.v1+json": {
       "config": {
        "plotlyServerURL": "https://plot.ly"
       },
       "data": [
        {
         "alignmentgroup": "True",
         "hovertemplate": "Bar Graph of Frequent Negative Words=%{x}<br>Count=%{y}<extra></extra>",
         "legendgroup": "",
         "marker": {
          "color": "#636efa",
          "pattern": {
           "shape": ""
          }
         },
         "name": "",
         "offsetgroup": "",
         "orientation": "v",
         "showlegend": false,
         "textposition": "auto",
         "type": "bar",
         "x": [
          "cancel",
          "pay",
          "steal",
          "suspicious",
          "complaint",
          "cancelled",
          "suck",
          "hard",
          "ridiculous",
          "charged",
          "frustrating",
          "warn",
          "annoying",
          "offense",
          "difficult",
          "drop"
         ],
         "xaxis": "x",
         "y": [
          6,
          3,
          2,
          2,
          1,
          1,
          1,
          1,
          1,
          1,
          1,
          1,
          1,
          1,
          1,
          1
         ],
         "yaxis": "y"
        }
       ],
       "layout": {
        "barmode": "relative",
        "legend": {
         "tracegroupgap": 0
        },
        "template": {
         "data": {
          "bar": [
           {
            "error_x": {
             "color": "#2a3f5f"
            },
            "error_y": {
             "color": "#2a3f5f"
            },
            "marker": {
             "line": {
              "color": "#E5ECF6",
              "width": 0.5
             },
             "pattern": {
              "fillmode": "overlay",
              "size": 10,
              "solidity": 0.2
             }
            },
            "type": "bar"
           }
          ],
          "barpolar": [
           {
            "marker": {
             "line": {
              "color": "#E5ECF6",
              "width": 0.5
             },
             "pattern": {
              "fillmode": "overlay",
              "size": 10,
              "solidity": 0.2
             }
            },
            "type": "barpolar"
           }
          ],
          "carpet": [
           {
            "aaxis": {
             "endlinecolor": "#2a3f5f",
             "gridcolor": "white",
             "linecolor": "white",
             "minorgridcolor": "white",
             "startlinecolor": "#2a3f5f"
            },
            "baxis": {
             "endlinecolor": "#2a3f5f",
             "gridcolor": "white",
             "linecolor": "white",
             "minorgridcolor": "white",
             "startlinecolor": "#2a3f5f"
            },
            "type": "carpet"
           }
          ],
          "choropleth": [
           {
            "colorbar": {
             "outlinewidth": 0,
             "ticks": ""
            },
            "type": "choropleth"
           }
          ],
          "contour": [
           {
            "colorbar": {
             "outlinewidth": 0,
             "ticks": ""
            },
            "colorscale": [
             [
              0,
              "#0d0887"
             ],
             [
              0.1111111111111111,
              "#46039f"
             ],
             [
              0.2222222222222222,
              "#7201a8"
             ],
             [
              0.3333333333333333,
              "#9c179e"
             ],
             [
              0.4444444444444444,
              "#bd3786"
             ],
             [
              0.5555555555555556,
              "#d8576b"
             ],
             [
              0.6666666666666666,
              "#ed7953"
             ],
             [
              0.7777777777777778,
              "#fb9f3a"
             ],
             [
              0.8888888888888888,
              "#fdca26"
             ],
             [
              1,
              "#f0f921"
             ]
            ],
            "type": "contour"
           }
          ],
          "contourcarpet": [
           {
            "colorbar": {
             "outlinewidth": 0,
             "ticks": ""
            },
            "type": "contourcarpet"
           }
          ],
          "heatmap": [
           {
            "colorbar": {
             "outlinewidth": 0,
             "ticks": ""
            },
            "colorscale": [
             [
              0,
              "#0d0887"
             ],
             [
              0.1111111111111111,
              "#46039f"
             ],
             [
              0.2222222222222222,
              "#7201a8"
             ],
             [
              0.3333333333333333,
              "#9c179e"
             ],
             [
              0.4444444444444444,
              "#bd3786"
             ],
             [
              0.5555555555555556,
              "#d8576b"
             ],
             [
              0.6666666666666666,
              "#ed7953"
             ],
             [
              0.7777777777777778,
              "#fb9f3a"
             ],
             [
              0.8888888888888888,
              "#fdca26"
             ],
             [
              1,
              "#f0f921"
             ]
            ],
            "type": "heatmap"
           }
          ],
          "heatmapgl": [
           {
            "colorbar": {
             "outlinewidth": 0,
             "ticks": ""
            },
            "colorscale": [
             [
              0,
              "#0d0887"
             ],
             [
              0.1111111111111111,
              "#46039f"
             ],
             [
              0.2222222222222222,
              "#7201a8"
             ],
             [
              0.3333333333333333,
              "#9c179e"
             ],
             [
              0.4444444444444444,
              "#bd3786"
             ],
             [
              0.5555555555555556,
              "#d8576b"
             ],
             [
              0.6666666666666666,
              "#ed7953"
             ],
             [
              0.7777777777777778,
              "#fb9f3a"
             ],
             [
              0.8888888888888888,
              "#fdca26"
             ],
             [
              1,
              "#f0f921"
             ]
            ],
            "type": "heatmapgl"
           }
          ],
          "histogram": [
           {
            "marker": {
             "pattern": {
              "fillmode": "overlay",
              "size": 10,
              "solidity": 0.2
             }
            },
            "type": "histogram"
           }
          ],
          "histogram2d": [
           {
            "colorbar": {
             "outlinewidth": 0,
             "ticks": ""
            },
            "colorscale": [
             [
              0,
              "#0d0887"
             ],
             [
              0.1111111111111111,
              "#46039f"
             ],
             [
              0.2222222222222222,
              "#7201a8"
             ],
             [
              0.3333333333333333,
              "#9c179e"
             ],
             [
              0.4444444444444444,
              "#bd3786"
             ],
             [
              0.5555555555555556,
              "#d8576b"
             ],
             [
              0.6666666666666666,
              "#ed7953"
             ],
             [
              0.7777777777777778,
              "#fb9f3a"
             ],
             [
              0.8888888888888888,
              "#fdca26"
             ],
             [
              1,
              "#f0f921"
             ]
            ],
            "type": "histogram2d"
           }
          ],
          "histogram2dcontour": [
           {
            "colorbar": {
             "outlinewidth": 0,
             "ticks": ""
            },
            "colorscale": [
             [
              0,
              "#0d0887"
             ],
             [
              0.1111111111111111,
              "#46039f"
             ],
             [
              0.2222222222222222,
              "#7201a8"
             ],
             [
              0.3333333333333333,
              "#9c179e"
             ],
             [
              0.4444444444444444,
              "#bd3786"
             ],
             [
              0.5555555555555556,
              "#d8576b"
             ],
             [
              0.6666666666666666,
              "#ed7953"
             ],
             [
              0.7777777777777778,
              "#fb9f3a"
             ],
             [
              0.8888888888888888,
              "#fdca26"
             ],
             [
              1,
              "#f0f921"
             ]
            ],
            "type": "histogram2dcontour"
           }
          ],
          "mesh3d": [
           {
            "colorbar": {
             "outlinewidth": 0,
             "ticks": ""
            },
            "type": "mesh3d"
           }
          ],
          "parcoords": [
           {
            "line": {
             "colorbar": {
              "outlinewidth": 0,
              "ticks": ""
             }
            },
            "type": "parcoords"
           }
          ],
          "pie": [
           {
            "automargin": true,
            "type": "pie"
           }
          ],
          "scatter": [
           {
            "fillpattern": {
             "fillmode": "overlay",
             "size": 10,
             "solidity": 0.2
            },
            "type": "scatter"
           }
          ],
          "scatter3d": [
           {
            "line": {
             "colorbar": {
              "outlinewidth": 0,
              "ticks": ""
             }
            },
            "marker": {
             "colorbar": {
              "outlinewidth": 0,
              "ticks": ""
             }
            },
            "type": "scatter3d"
           }
          ],
          "scattercarpet": [
           {
            "marker": {
             "colorbar": {
              "outlinewidth": 0,
              "ticks": ""
             }
            },
            "type": "scattercarpet"
           }
          ],
          "scattergeo": [
           {
            "marker": {
             "colorbar": {
              "outlinewidth": 0,
              "ticks": ""
             }
            },
            "type": "scattergeo"
           }
          ],
          "scattergl": [
           {
            "marker": {
             "colorbar": {
              "outlinewidth": 0,
              "ticks": ""
             }
            },
            "type": "scattergl"
           }
          ],
          "scattermapbox": [
           {
            "marker": {
             "colorbar": {
              "outlinewidth": 0,
              "ticks": ""
             }
            },
            "type": "scattermapbox"
           }
          ],
          "scatterpolar": [
           {
            "marker": {
             "colorbar": {
              "outlinewidth": 0,
              "ticks": ""
             }
            },
            "type": "scatterpolar"
           }
          ],
          "scatterpolargl": [
           {
            "marker": {
             "colorbar": {
              "outlinewidth": 0,
              "ticks": ""
             }
            },
            "type": "scatterpolargl"
           }
          ],
          "scatterternary": [
           {
            "marker": {
             "colorbar": {
              "outlinewidth": 0,
              "ticks": ""
             }
            },
            "type": "scatterternary"
           }
          ],
          "surface": [
           {
            "colorbar": {
             "outlinewidth": 0,
             "ticks": ""
            },
            "colorscale": [
             [
              0,
              "#0d0887"
             ],
             [
              0.1111111111111111,
              "#46039f"
             ],
             [
              0.2222222222222222,
              "#7201a8"
             ],
             [
              0.3333333333333333,
              "#9c179e"
             ],
             [
              0.4444444444444444,
              "#bd3786"
             ],
             [
              0.5555555555555556,
              "#d8576b"
             ],
             [
              0.6666666666666666,
              "#ed7953"
             ],
             [
              0.7777777777777778,
              "#fb9f3a"
             ],
             [
              0.8888888888888888,
              "#fdca26"
             ],
             [
              1,
              "#f0f921"
             ]
            ],
            "type": "surface"
           }
          ],
          "table": [
           {
            "cells": {
             "fill": {
              "color": "#EBF0F8"
             },
             "line": {
              "color": "white"
             }
            },
            "header": {
             "fill": {
              "color": "#C8D4E3"
             },
             "line": {
              "color": "white"
             }
            },
            "type": "table"
           }
          ]
         },
         "layout": {
          "annotationdefaults": {
           "arrowcolor": "#2a3f5f",
           "arrowhead": 0,
           "arrowwidth": 1
          },
          "autotypenumbers": "strict",
          "coloraxis": {
           "colorbar": {
            "outlinewidth": 0,
            "ticks": ""
           }
          },
          "colorscale": {
           "diverging": [
            [
             0,
             "#8e0152"
            ],
            [
             0.1,
             "#c51b7d"
            ],
            [
             0.2,
             "#de77ae"
            ],
            [
             0.3,
             "#f1b6da"
            ],
            [
             0.4,
             "#fde0ef"
            ],
            [
             0.5,
             "#f7f7f7"
            ],
            [
             0.6,
             "#e6f5d0"
            ],
            [
             0.7,
             "#b8e186"
            ],
            [
             0.8,
             "#7fbc41"
            ],
            [
             0.9,
             "#4d9221"
            ],
            [
             1,
             "#276419"
            ]
           ],
           "sequential": [
            [
             0,
             "#0d0887"
            ],
            [
             0.1111111111111111,
             "#46039f"
            ],
            [
             0.2222222222222222,
             "#7201a8"
            ],
            [
             0.3333333333333333,
             "#9c179e"
            ],
            [
             0.4444444444444444,
             "#bd3786"
            ],
            [
             0.5555555555555556,
             "#d8576b"
            ],
            [
             0.6666666666666666,
             "#ed7953"
            ],
            [
             0.7777777777777778,
             "#fb9f3a"
            ],
            [
             0.8888888888888888,
             "#fdca26"
            ],
            [
             1,
             "#f0f921"
            ]
           ],
           "sequentialminus": [
            [
             0,
             "#0d0887"
            ],
            [
             0.1111111111111111,
             "#46039f"
            ],
            [
             0.2222222222222222,
             "#7201a8"
            ],
            [
             0.3333333333333333,
             "#9c179e"
            ],
            [
             0.4444444444444444,
             "#bd3786"
            ],
            [
             0.5555555555555556,
             "#d8576b"
            ],
            [
             0.6666666666666666,
             "#ed7953"
            ],
            [
             0.7777777777777778,
             "#fb9f3a"
            ],
            [
             0.8888888888888888,
             "#fdca26"
            ],
            [
             1,
             "#f0f921"
            ]
           ]
          },
          "colorway": [
           "#636efa",
           "#EF553B",
           "#00cc96",
           "#ab63fa",
           "#FFA15A",
           "#19d3f3",
           "#FF6692",
           "#B6E880",
           "#FF97FF",
           "#FECB52"
          ],
          "font": {
           "color": "#2a3f5f"
          },
          "geo": {
           "bgcolor": "white",
           "lakecolor": "white",
           "landcolor": "#E5ECF6",
           "showlakes": true,
           "showland": true,
           "subunitcolor": "white"
          },
          "hoverlabel": {
           "align": "left"
          },
          "hovermode": "closest",
          "mapbox": {
           "style": "light"
          },
          "paper_bgcolor": "white",
          "plot_bgcolor": "#E5ECF6",
          "polar": {
           "angularaxis": {
            "gridcolor": "white",
            "linecolor": "white",
            "ticks": ""
           },
           "bgcolor": "#E5ECF6",
           "radialaxis": {
            "gridcolor": "white",
            "linecolor": "white",
            "ticks": ""
           }
          },
          "scene": {
           "xaxis": {
            "backgroundcolor": "#E5ECF6",
            "gridcolor": "white",
            "gridwidth": 2,
            "linecolor": "white",
            "showbackground": true,
            "ticks": "",
            "zerolinecolor": "white"
           },
           "yaxis": {
            "backgroundcolor": "#E5ECF6",
            "gridcolor": "white",
            "gridwidth": 2,
            "linecolor": "white",
            "showbackground": true,
            "ticks": "",
            "zerolinecolor": "white"
           },
           "zaxis": {
            "backgroundcolor": "#E5ECF6",
            "gridcolor": "white",
            "gridwidth": 2,
            "linecolor": "white",
            "showbackground": true,
            "ticks": "",
            "zerolinecolor": "white"
           }
          },
          "shapedefaults": {
           "line": {
            "color": "#2a3f5f"
           }
          },
          "ternary": {
           "aaxis": {
            "gridcolor": "white",
            "linecolor": "white",
            "ticks": ""
           },
           "baxis": {
            "gridcolor": "white",
            "linecolor": "white",
            "ticks": ""
           },
           "bgcolor": "#E5ECF6",
           "caxis": {
            "gridcolor": "white",
            "linecolor": "white",
            "ticks": ""
           }
          },
          "title": {
           "x": 0.05
          },
          "xaxis": {
           "automargin": true,
           "gridcolor": "white",
           "linecolor": "white",
           "ticks": "",
           "title": {
            "standoff": 15
           },
           "zerolinecolor": "white",
           "zerolinewidth": 2
          },
          "yaxis": {
           "automargin": true,
           "gridcolor": "white",
           "linecolor": "white",
           "ticks": "",
           "title": {
            "standoff": 15
           },
           "zerolinecolor": "white",
           "zerolinewidth": 2
          }
         }
        },
        "title": {
         "text": "Commonly Used Negative Words Count"
        },
        "xaxis": {
         "anchor": "y",
         "domain": [
          0,
          1
         ],
         "title": {
          "text": "Bar Graph of Frequent Negative Words"
         }
        },
        "yaxis": {
         "anchor": "x",
         "domain": [
          0,
          1
         ],
         "title": {
          "text": "Count"
         }
        }
       }
      }
     },
     "metadata": {},
     "output_type": "display_data"
    }
   ],
   "source": [
    "# Most common negative words\n",
    "\n",
    "neg_freq_df = pd.DataFrame(frequent_neg_words.most_common(no_of_words))\n",
    "neg_freq_df = neg_freq_df.rename(columns = {0: \"Bar Graph of Frequent Negative Words\", 1: \"Count\"}, inplace=False)\n",
    "\n",
    "fig = px.bar(neg_freq_df, x = \"Bar Graph of Frequent Negative Words\", y = \"Count\", title = \"Commonly Used Negative Words Count\")\n",
    "\n",
    "fig.show()"
   ]
  },
  {
   "attachments": {},
   "cell_type": "markdown",
   "metadata": {},
   "source": [
    "Ideas for improvement:\n",
    "\n",
    "Try sentiment for sentences instead of words. There may be some sentences such as \"They try to take away my uncertainity and nervousness\" which is obviously positive but the individual words \"uncertainity\" and \"nervousness\" contribute more to negative score."
   ]
  },
  {
   "attachments": {},
   "cell_type": "markdown",
   "metadata": {},
   "source": [
    "References:\n",
    "- https://www.learndatasci.com/tutorials/predicting-reddit-news-sentiment-naive-bayes-text-classifiers/\n",
    "- https://www.nltk.org/\n",
    "- https://praw.readthedocs.io/en/latest/tutorials/comments.html#extracting-comments-with-praw\n",
    "- https://stackoverflow.com/questions/61919884/mapping-wordcloud-color-to-a-value-for-sentiment-analysis\n",
    "- https://www.learndatasci.com/tutorials/sentiment-analysis-reddit-headlines-pythons-nltk/\n",
    "- https://medium.com/analytics-vidhya/simplifying-social-media-sentiment-analysis-using-vader-in-python-f9e6ec6fc52f\n",
    "- https://docs.streamlit.io/\n",
    "\n"
   ]
  }
 ],
 "metadata": {
  "kernelspec": {
   "display_name": "datascience",
   "language": "python",
   "name": "python3"
  },
  "language_info": {
   "codemirror_mode": {
    "name": "ipython",
    "version": 3
   },
   "file_extension": ".py",
   "mimetype": "text/x-python",
   "name": "python",
   "nbconvert_exporter": "python",
   "pygments_lexer": "ipython3",
   "version": "3.10.4"
  },
  "orig_nbformat": 4
 },
 "nbformat": 4,
 "nbformat_minor": 2
}
