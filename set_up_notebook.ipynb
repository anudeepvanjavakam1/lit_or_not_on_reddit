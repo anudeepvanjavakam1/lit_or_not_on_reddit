{
 "cells": [
  {
   "cell_type": "code",
   "execution_count": 2,
   "metadata": {},
   "outputs": [
    {
     "name": "stderr",
     "output_type": "stream",
     "text": [
      "[nltk_data] Downloading package vader_lexicon to\n",
      "[nltk_data]     C:\\Users\\avanjavakam\\AppData\\Roaming\\nltk_data...\n",
      "[nltk_data]   Package vader_lexicon is already up-to-date!\n"
     ]
    }
   ],
   "source": [
    "# For gathering data from reddit\n",
    "import praw # Python Reddit API Wrapper\n",
    "from praw.models import MoreComments\n",
    "\n",
    "import pandas as pd\n",
    "import nltk\n",
    "from nltk.corpus import stopwords\n",
    "from nltk.tokenize import RegexpTokenizer\n",
    "from nltk.stem import WordNetLemmatizer, PorterStemmer\n",
    "from nltk import FreqDist\n",
    "nltk.downloader.download('vader_lexicon')\n",
    "from nltk.sentiment.vader import SentimentIntensityAnalyzer as SIA\n",
    "import re # Remove links\n",
    "import en_core_web_sm\n",
    "import spacy\n",
    "\n",
    "import os\n",
    "from dotenv import load_dotenv\n",
    "\n",
    "# for visualization\n",
    "import seaborn as sns\n",
    "sns.set(style = 'whitegrid', palette = 'Dark2')\n",
    "import matplotlib.pyplot as plt\n",
    "from wordcloud import WordCloud, get_single_color_func\n",
    "import plotly.express as px\n"
   ]
  },
  {
   "cell_type": "code",
   "execution_count": 52,
   "metadata": {},
   "outputs": [
    {
     "name": "stderr",
     "output_type": "stream",
     "text": [
      "[nltk_data] Downloading package vader_lexicon to\n",
      "[nltk_data]     C:\\Users\\avanjavakam\\AppData\\Roaming\\nltk_data...\n"
     ]
    },
    {
     "data": {
      "text/plain": [
       "True"
      ]
     },
     "execution_count": 52,
     "metadata": {},
     "output_type": "execute_result"
    }
   ],
   "source": []
  },
  {
   "cell_type": "code",
   "execution_count": 3,
   "metadata": {},
   "outputs": [
    {
     "data": {
      "text/plain": [
       "<praw.reddit.Reddit at 0x290259a1480>"
      ]
     },
     "execution_count": 3,
     "metadata": {},
     "output_type": "execute_result"
    }
   ],
   "source": [
    "# loading development settings for Reddit API\n",
    "%load_ext dotenv\n",
    "%dotenv\n",
    "\n",
    "# Create a reddit connection with reddit API details\n",
    "reddit = praw.Reddit(client_id = os.getenv(\"CLIENT_ID\"),\n",
    "                     client_secret = os.getenv(\"CLIENT_SECRET\"),\n",
    "                     user_agent = os.getenv(\"USER_AGENT\"))\n",
    "reddit"
   ]
  },
  {
   "cell_type": "code",
   "execution_count": 4,
   "metadata": {},
   "outputs": [
    {
     "name": "stdout",
     "output_type": "stream",
     "text": [
      "0.92\n",
      "36728\n",
      "Unpopular opinion, If I can not buy it new now, then it should not be on this sub.\n",
      "Submission ID =  ixxh3a \n",
      "\n",
      "0.79\n",
      "31877\n",
      "My experience being a woman of color in the US\n",
      "Submission ID =  gzq3c9 \n",
      "\n",
      "0.92\n",
      "15412\n",
      "TIFU by asking the admin assistant to spank me in front of HR\n",
      "Submission ID =  myakb5 \n",
      "\n",
      "0.96\n",
      "13763\n",
      "Cut my salary in half? Kiss your business goodbye.\n",
      "Submission ID =  lb8evx \n",
      "\n",
      "0.94\n",
      "12808\n",
      "I spent the last 12 months in a remote wilderness lodge with no internet and cell service, and spent all my time reading. I did a ranking and mini-reviews of the 40ish books I read in that time\n",
      "Submission ID =  v3cgxz \n",
      "\n",
      "0.97\n",
      "9142\n",
      "Screw me on my bonus? Make me do two job? Enjoy the backwater you earned.\n",
      "Submission ID =  rrghuu \n",
      "\n",
      "0.98\n",
      "8572\n",
      "[Books] The Boyne in the Striped Pajamas: How a bestselling author got into a Twitter slapfight with the Auschwitz Museum and put Legend of Zelda monsters in his serious historical novel because he thought they were real animals\n",
      "Submission ID =  yhtk49 \n",
      "\n",
      "0.97\n",
      "8397\n",
      "1 & 20 Years Paying the Bitch Back\n",
      "Submission ID =  apxgrx \n",
      "\n",
      "0.96\n",
      "7959\n",
      "If you see Gwasuwon ramen noodles, throw it away and call FBI immediately\n",
      "Submission ID =  952poe \n",
      "\n",
      "1.0\n",
      "7925\n",
      "1 & 20 Years Paying the Bitch Back\n",
      "Submission ID =  apy6s3 \n",
      "\n",
      "0.98\n",
      "7636\n",
      "The moment when a silly joke turned into reality...\n",
      "Submission ID =  12eguom \n",
      "\n",
      "0.95\n",
      "7571\n",
      "To not flunk out of college, I changed my grades and thousands of others' as well.\n",
      "Submission ID =  l78cru \n",
      "\n",
      "0.97\n",
      "7320\n",
      "Alissa Turney's Dad Arrested\n",
      "Submission ID =  idk2ve \n",
      "\n",
      "0.95\n",
      "6316\n",
      "/r/buildapc hits 2 million subscribers - it’s giveaway time!\n",
      "Submission ID =  femubi \n",
      "\n",
      "0.96\n",
      "5716\n",
      "Park Ranger warning you to stay safe and leave your flashlights at home\n",
      "Submission ID =  4fvmed \n",
      "\n",
      "1.0\n",
      "4575\n",
      "What Your Watch Brand Says About You\n",
      "Submission ID =  bksnxc \n",
      "\n",
      "0.99\n",
      "4210\n",
      "Amazon review for a backpack...\n",
      "Submission ID =  d5ii2y \n",
      "\n",
      "0.96\n",
      "4177\n",
      "Your wardrobe is outdated. What now? Step 1 - Skinny jeans\n",
      "Submission ID =  11cp9nb \n",
      "\n",
      "1.0\n",
      "3828\n",
      "I made ANOTHER list of creepy, unexplained, paranormal, and interesting posts from all over Reddit! Over two hundred posts with hundreds of thousands of comments. A most excellent way to kill some time <3\n",
      "Submission ID =  lhi5sz \n",
      "\n",
      "0.99\n",
      "3763\n",
      "An old woman paid me $1500 to sit with her during her final moments.\n",
      "Submission ID =  mw2uw1 \n",
      "\n"
     ]
    },
    {
     "data": {
      "text/plain": [
       "['ixxh3a',\n",
       " 'gzq3c9',\n",
       " 'myakb5',\n",
       " 'lb8evx',\n",
       " 'v3cgxz',\n",
       " 'rrghuu',\n",
       " 'yhtk49',\n",
       " 'apxgrx',\n",
       " '952poe',\n",
       " 'apy6s3',\n",
       " '12eguom',\n",
       " 'l78cru',\n",
       " 'idk2ve',\n",
       " 'femubi',\n",
       " '4fvmed',\n",
       " 'bksnxc',\n",
       " 'd5ii2y',\n",
       " '11cp9nb',\n",
       " 'lhi5sz',\n",
       " 'mw2uw1']"
      ]
     },
     "execution_count": 4,
     "metadata": {},
     "output_type": "execute_result"
    }
   ],
   "source": [
    "subreddit = reddit.subreddit('all')\n",
    "submissions_list = []\n",
    "search_term = \"osprey backpack review\"\n",
    "# search popular subreddits for reviews and get first 3 posts\n",
    "for submission in subreddit.search(search_term,limit = 20,sort='top'):\n",
    "\n",
    "    #print(submission.likes)\n",
    "    #print(submission.num_comments)\n",
    "    #print(submission.subreddit_subscribers)\n",
    "    #print(submission.view_count)\n",
    "    print(submission.upvote_ratio)\n",
    "    print(submission.score)    \n",
    "    print(submission.title)\n",
    "       \n",
    "    print('Submission ID = ', submission.id, '\\n')\n",
    "    submissions_list.append(submission.id)\n",
    "submissions_list"
   ]
  },
  {
   "cell_type": "code",
   "execution_count": 234,
   "metadata": {},
   "outputs": [
    {
     "ename": "AttributeError",
     "evalue": "'MoreComments' object has no attribute 'body'",
     "output_type": "error",
     "traceback": [
      "\u001b[1;31m---------------------------------------------------------------------------\u001b[0m",
      "\u001b[1;31mAttributeError\u001b[0m                            Traceback (most recent call last)",
      "\u001b[1;32mc:\\Users\\avanjavakam\\OneDrive - Moulton Niguel Water\\Documents\\R_Home\\Udacity_Data_Scientist_Nano_Degree\\lit_or_not_on_reddit\\set_up_notebook.ipynb Cell 5\u001b[0m in \u001b[0;36m<cell line: 6>\u001b[1;34m()\u001b[0m\n\u001b[0;32m     <a href='vscode-notebook-cell:/c%3A/Users/avanjavakam/OneDrive%20-%20Moulton%20Niguel%20Water/Documents/R_Home/Udacity_Data_Scientist_Nano_Degree/lit_or_not_on_reddit/set_up_notebook.ipynb#W3sZmlsZQ%3D%3D?line=9'>10</a>\u001b[0m     \u001b[39m#post\u001b[39;00m\n\u001b[0;32m     <a href='vscode-notebook-cell:/c%3A/Users/avanjavakam/OneDrive%20-%20Moulton%20Niguel%20Water/Documents/R_Home/Udacity_Data_Scientist_Nano_Degree/lit_or_not_on_reddit/set_up_notebook.ipynb#W3sZmlsZQ%3D%3D?line=10'>11</a>\u001b[0m     \u001b[39m# each post has comments attribute. \u001b[39;00m\n\u001b[0;32m     <a href='vscode-notebook-cell:/c%3A/Users/avanjavakam/OneDrive%20-%20Moulton%20Niguel%20Water/Documents/R_Home/Udacity_Data_Scientist_Nano_Degree/lit_or_not_on_reddit/set_up_notebook.ipynb#W3sZmlsZQ%3D%3D?line=11'>12</a>\u001b[0m     \u001b[39m# A CommentForest is a list of top-level comments each of which contains a CommentForest of replies.\u001b[39;00m\n\u001b[1;32m   (...)\u001b[0m\n\u001b[0;32m     <a href='vscode-notebook-cell:/c%3A/Users/avanjavakam/OneDrive%20-%20Moulton%20Niguel%20Water/Documents/R_Home/Udacity_Data_Scientist_Nano_Degree/lit_or_not_on_reddit/set_up_notebook.ipynb#W3sZmlsZQ%3D%3D?line=18'>19</a>\u001b[0m     \u001b[39m#for comments in post.comments.list():\u001b[39;00m\n\u001b[0;32m     <a href='vscode-notebook-cell:/c%3A/Users/avanjavakam/OneDrive%20-%20Moulton%20Niguel%20Water/Documents/R_Home/Udacity_Data_Scientist_Nano_Degree/lit_or_not_on_reddit/set_up_notebook.ipynb#W3sZmlsZQ%3D%3D?line=19'>20</a>\u001b[0m     \u001b[39m#for only top level comments, use post.comments:\u001b[39;00m\n\u001b[0;32m     <a href='vscode-notebook-cell:/c%3A/Users/avanjavakam/OneDrive%20-%20Moulton%20Niguel%20Water/Documents/R_Home/Udacity_Data_Scientist_Nano_Degree/lit_or_not_on_reddit/set_up_notebook.ipynb#W3sZmlsZQ%3D%3D?line=20'>21</a>\u001b[0m     \u001b[39mfor\u001b[39;00m comments \u001b[39min\u001b[39;00m post\u001b[39m.\u001b[39mcomments: \n\u001b[0;32m     <a href='vscode-notebook-cell:/c%3A/Users/avanjavakam/OneDrive%20-%20Moulton%20Niguel%20Water/Documents/R_Home/Udacity_Data_Scientist_Nano_Degree/lit_or_not_on_reddit/set_up_notebook.ipynb#W3sZmlsZQ%3D%3D?line=21'>22</a>\u001b[0m         \u001b[39m#print(comments.score)\u001b[39;00m\n\u001b[1;32m---> <a href='vscode-notebook-cell:/c%3A/Users/avanjavakam/OneDrive%20-%20Moulton%20Niguel%20Water/Documents/R_Home/Udacity_Data_Scientist_Nano_Degree/lit_or_not_on_reddit/set_up_notebook.ipynb#W3sZmlsZQ%3D%3D?line=22'>23</a>\u001b[0m         comments_all\u001b[39m.\u001b[39mappend(comments\u001b[39m.\u001b[39;49mbody)\n\u001b[0;32m     <a href='vscode-notebook-cell:/c%3A/Users/avanjavakam/OneDrive%20-%20Moulton%20Niguel%20Water/Documents/R_Home/Udacity_Data_Scientist_Nano_Degree/lit_or_not_on_reddit/set_up_notebook.ipynb#W3sZmlsZQ%3D%3D?line=25'>26</a>\u001b[0m \u001b[39m#print(comments_all, '\\n')\u001b[39;00m\n\u001b[0;32m     <a href='vscode-notebook-cell:/c%3A/Users/avanjavakam/OneDrive%20-%20Moulton%20Niguel%20Water/Documents/R_Home/Udacity_Data_Scientist_Nano_Degree/lit_or_not_on_reddit/set_up_notebook.ipynb#W3sZmlsZQ%3D%3D?line=26'>27</a>\u001b[0m \u001b[39mprint\u001b[39m(\u001b[39m\"\u001b[39m\u001b[39mtotal comments scraped = \u001b[39m\u001b[39m\"\u001b[39m, \u001b[39mlen\u001b[39m(comments_all))\n",
      "\u001b[1;31mAttributeError\u001b[0m: 'MoreComments' object has no attribute 'body'"
     ]
    }
   ],
   "source": [
    "# for each submission (post), storing all comments in a list\n",
    "comments_all = []\n",
    "\n",
    "fullnames = [f\"t3_{id}\" for id in submissions_list]\n",
    "\n",
    "for submission_id in reddit.info(fullnames=fullnames):\n",
    "    submission_id.comment_sort = 'best'\n",
    "    post = reddit.submission(id = submission_id)\n",
    "    post.comment_sort = \"best\"\n",
    "    #post\n",
    "    # each post has comments attribute. \n",
    "    # A CommentForest is a list of top-level comments each of which contains a CommentForest of replies.\n",
    "    # This will have MoreComments objects.\n",
    "    # These objects represent the “load more comments”, and “continue this thread” links encountered on the website.\n",
    "    # the CommentForest object has a method called replace_more(), which replaces or removes MoreComments objects from the forest.\n",
    "    #post.comments.replace_more(limit = None)\n",
    "\n",
    "    # for comments and replies, use post.comments.list() but be aware that this takes longer as it is computationally intensive\n",
    "    #for comments in post.comments.list():\n",
    "    #for only top level comments, use post.comments:\n",
    "    for comments in post.comments: \n",
    "        #print(comments.score)\n",
    "        comments_all.append(comments.body)\n",
    "    \n",
    "\n",
    "#print(comments_all, '\\n')\n",
    "print(\"total comments scraped = \", len(comments_all))\n",
    "\n"
   ]
  },
  {
   "cell_type": "code",
   "execution_count": 5,
   "metadata": {},
   "outputs": [],
   "source": [
    "\n",
    "#top = subreddit.search(search_term,limit = 20,sort='top').top(params={'t': 'all'}, limit=25) # For a more potentially accurate set of top comments, increase the limit (but it'll take longer)\n",
    "posts = dict()\n",
    "all_comments = []\n",
    "comments_body = []\n",
    "top_comments_body = {}\n",
    "    \n",
    "# search all subreddits and get comments from top posts\n",
    "for submission in subreddit.search(search_term, limit = 5, sort='relevance'):\n",
    "    # sort comments by 'best' (which is default mode we see when using reddit)\n",
    "    submission.comment_sort = 'best'\n",
    "\n",
    "    # This line is required in case we need commentForest (includes replies tree)\n",
    "    # or else there would be an error if we do not replace moreComments.\n",
    "    submission.comments.replace_more(limit = None)\n",
    "\n",
    "    # exlclude bot posts/advertised posts \n",
    "    if not submission.stickied:\n",
    "\n",
    "        # add original post text to the posts dictionary\n",
    "        posts[submission.selftext] = submission.score\n",
    "\n",
    "        # for each post, get top level comments (no replies, no commentForest)\n",
    "        #if top_level_comments_only:\n",
    "        real_comments = [comment for comment in list(submission.comments)]\n",
    "        # for comments and replies (includes commentForest)\n",
    "        #else:                \n",
    "            #real_comments = [comment for comment in submission.comments.list()]            \n",
    "        all_comments += real_comments\n",
    "# if the search term found any posts on reddit search\n",
    "if posts:\n",
    "    # sort all comments by no. of upvotes\n",
    "    all_comments.sort(key=lambda comment: comment.score, reverse=True)\n",
    "\n",
    "    # store top n comments with most no. of upvotes\n",
    "    top_comments = all_comments[:5] #top 5 comments\n",
    "\n",
    "    for comment in top_comments:\n",
    "        top_comments_body[comment.body] = comment.score\n",
    "\n",
    "    for comment in all_comments:\n",
    "        comments_body.append(comment.body)\n",
    "\n",
    "    for text, score in posts.items():    \n",
    "        # add post texts to comments body\n",
    "        comments_body.append(text)\n",
    "else:\n",
    "    print('No posts found! Please enter another search term')\n",
    "        \n",
    "\n"
   ]
  },
  {
   "cell_type": "code",
   "execution_count": 301,
   "metadata": {},
   "outputs": [
    {
     "data": {
      "text/plain": [
       "'t3_12thp00'"
      ]
     },
     "execution_count": 301,
     "metadata": {},
     "output_type": "execute_result"
    }
   ],
   "source": [
    "\n"
   ]
  },
  {
   "cell_type": "code",
   "execution_count": 6,
   "metadata": {},
   "outputs": [
    {
     "name": "stdout",
     "output_type": "stream",
     "text": [
      "['additional', 'image', 'http', 'imgur', 'com', 'k0fgakk', 'brand', 'new', 'box', 'removed', 'box', 'photo', 'shipping', 'conus', 'included', 'price', 'm', 'happy', 'ship', 'outside', 'conus', 'shipping', 'paid', 'weight', '44', '8', 'oz', 'personally', 'weighed', 'manufacturer', 'say', '39', '6', 'oz', 'wanting', 'pack', 'size', 'll', 'leap', 'osprey', 'airspeed', 'suspension', 'stumbled', 'airspeed', 'osprey', 'good', '30', 'year', 'ago', 'm', 'airspeed', 'osprey', 'fan', 'people', 'don', 't', 'know', 'construction', 'try', 'cheerlead', 'yk', '2', 'cent', 'need', 'snap', 'pack', 'quick', 'u', 'heihei_the_chicken', 'following', 'flair', '0', 'transaction', 'new', 'seller', 'sure', 'read', 'rule', 'outlined', 'sidebar', 'prior', 'buying', 'selling', 'trading', 'click', 'learn', 'leave', 'feedback', 'confirm', 'trade', 'http', 'www', 'reddit', 'com', 'r', 'geartrade', 'comment', '124vfm8', 'please_read_new_feedback_and_flair_process_online', 'user', 'trade', 'count', 'found', 'user', 'flair', 'unable', 'want', 'detailed', 'list', 'reference', 'click', 'send', 'message', 'link', 'http', 'www', 'reddit', 'com', 'message', 'compose', 'geartradebot', 'subject', 'feedback_check', 'message', 'u', 'heihei_the_chicken', 'believe', 'scammed', 'fill', 'form', 'http', 'www', 'reddit', 'com', 'message', 'compose', 'r', 'geartrade', 'subject', '20think', '20i', '20have', '20been', '20scammed', 'message', '20username', '20of', '20the', '20person', '20scamming', '20me', '20', '0d', '0a', '0d', '0a', '20link', '20to', '20the', '20thread', '20where', '20the', '20transaction', '20originated', '20', '0d', '0a', '0d', '0a', '20link', '20to', '20screenshots', '20uploaded', '20to', '20imgur', '20of', '20my', '20conversations', '20with', '20the', '20scammer', '20', '0d', '0a', '0d', '0a', '20an', '20explanation', '20of', '20the', '20situation', '20', 'consult', 'universal', 'scammer', 'list', 'http', 'www', 'universalscammerlist', 'com', 'username', 'heihei_the_chicken', 'bot', 'action', 'performed', 'automatically', 'contact', 'moderator', 'subreddit', 'message', 'compose', 'r', 'geartrade', 'question', 'concern', 'update', 'sold', 'u', 'geartradebot', 'u', 'monica114']\n",
      "number of words =  221\n"
     ]
    }
   ],
   "source": [
    "# Pre-processing comments\n",
    "\n",
    "# convert to a string object\n",
    "# map to a list of strings\n",
    "strings_all = [str(i) for i in comments_body]\n",
    "# join all strings spearated by a commma\n",
    "strings_uncleaned = ' , '.join(strings_all)\n",
    "strings_uncleaned\n",
    "\n",
    "# tokenizing and cleaning strings\n",
    "tokenizer = RegexpTokenizer('\\w+|\\$[\\d\\.]+|http\\S+')\n",
    "tokenized_string = tokenizer.tokenize(strings_uncleaned)\n",
    "\n",
    "# converting all tokens to lowercase\n",
    "tokenized_string_lower = [word.lower() for word in tokenized_string]\n",
    "\n",
    "# removing stop words\n",
    "nlp = en_core_web_sm.load()\n",
    "all_stopwords = nlp.Defaults.stop_words\n",
    "tokens_without_stopwords = [word for word in tokenized_string_lower if not word in all_stopwords]\n",
    "\n",
    "# stemming might return a root word that is not an actual word\n",
    "# whereas, lemmatizing returns a root word that is an actual language word.\n",
    "# let's normalize words via lemmatizing\n",
    "lemmatizer = WordNetLemmatizer()\n",
    "\n",
    "lemmatized_tokens = ([lemmatizer.lemmatize(w) for w in tokens_without_stopwords])\n",
    "print(lemmatized_tokens)\n",
    "\n",
    "print(\"number of words = \", len(lemmatized_tokens))\n"
   ]
  },
  {
   "cell_type": "code",
   "execution_count": 7,
   "metadata": {},
   "outputs": [
    {
     "data": {
      "text/html": [
       "<div>\n",
       "<style scoped>\n",
       "    .dataframe tbody tr th:only-of-type {\n",
       "        vertical-align: middle;\n",
       "    }\n",
       "\n",
       "    .dataframe tbody tr th {\n",
       "        vertical-align: top;\n",
       "    }\n",
       "\n",
       "    .dataframe thead th {\n",
       "        text-align: right;\n",
       "    }\n",
       "</style>\n",
       "<table border=\"1\" class=\"dataframe\">\n",
       "  <thead>\n",
       "    <tr style=\"text-align: right;\">\n",
       "      <th></th>\n",
       "      <th>neg</th>\n",
       "      <th>neu</th>\n",
       "      <th>pos</th>\n",
       "      <th>compound</th>\n",
       "      <th>words</th>\n",
       "    </tr>\n",
       "  </thead>\n",
       "  <tbody>\n",
       "    <tr>\n",
       "      <th>0</th>\n",
       "      <td>0.0</td>\n",
       "      <td>1.0</td>\n",
       "      <td>0.0</td>\n",
       "      <td>0.0</td>\n",
       "      <td>additional</td>\n",
       "    </tr>\n",
       "    <tr>\n",
       "      <th>1</th>\n",
       "      <td>0.0</td>\n",
       "      <td>1.0</td>\n",
       "      <td>0.0</td>\n",
       "      <td>0.0</td>\n",
       "      <td>image</td>\n",
       "    </tr>\n",
       "    <tr>\n",
       "      <th>2</th>\n",
       "      <td>0.0</td>\n",
       "      <td>1.0</td>\n",
       "      <td>0.0</td>\n",
       "      <td>0.0</td>\n",
       "      <td>http</td>\n",
       "    </tr>\n",
       "    <tr>\n",
       "      <th>3</th>\n",
       "      <td>0.0</td>\n",
       "      <td>1.0</td>\n",
       "      <td>0.0</td>\n",
       "      <td>0.0</td>\n",
       "      <td>imgur</td>\n",
       "    </tr>\n",
       "    <tr>\n",
       "      <th>4</th>\n",
       "      <td>0.0</td>\n",
       "      <td>1.0</td>\n",
       "      <td>0.0</td>\n",
       "      <td>0.0</td>\n",
       "      <td>com</td>\n",
       "    </tr>\n",
       "    <tr>\n",
       "      <th>...</th>\n",
       "      <td>...</td>\n",
       "      <td>...</td>\n",
       "      <td>...</td>\n",
       "      <td>...</td>\n",
       "      <td>...</td>\n",
       "    </tr>\n",
       "    <tr>\n",
       "      <th>216</th>\n",
       "      <td>0.0</td>\n",
       "      <td>1.0</td>\n",
       "      <td>0.0</td>\n",
       "      <td>0.0</td>\n",
       "      <td>sold</td>\n",
       "    </tr>\n",
       "    <tr>\n",
       "      <th>217</th>\n",
       "      <td>0.0</td>\n",
       "      <td>0.0</td>\n",
       "      <td>0.0</td>\n",
       "      <td>0.0</td>\n",
       "      <td>u</td>\n",
       "    </tr>\n",
       "    <tr>\n",
       "      <th>218</th>\n",
       "      <td>0.0</td>\n",
       "      <td>1.0</td>\n",
       "      <td>0.0</td>\n",
       "      <td>0.0</td>\n",
       "      <td>geartradebot</td>\n",
       "    </tr>\n",
       "    <tr>\n",
       "      <th>219</th>\n",
       "      <td>0.0</td>\n",
       "      <td>0.0</td>\n",
       "      <td>0.0</td>\n",
       "      <td>0.0</td>\n",
       "      <td>u</td>\n",
       "    </tr>\n",
       "    <tr>\n",
       "      <th>220</th>\n",
       "      <td>0.0</td>\n",
       "      <td>1.0</td>\n",
       "      <td>0.0</td>\n",
       "      <td>0.0</td>\n",
       "      <td>monica114</td>\n",
       "    </tr>\n",
       "  </tbody>\n",
       "</table>\n",
       "<p>221 rows × 5 columns</p>\n",
       "</div>"
      ],
      "text/plain": [
       "     neg  neu  pos  compound         words\n",
       "0    0.0  1.0  0.0       0.0    additional\n",
       "1    0.0  1.0  0.0       0.0         image\n",
       "2    0.0  1.0  0.0       0.0          http\n",
       "3    0.0  1.0  0.0       0.0         imgur\n",
       "4    0.0  1.0  0.0       0.0           com\n",
       "..   ...  ...  ...       ...           ...\n",
       "216  0.0  1.0  0.0       0.0          sold\n",
       "217  0.0  0.0  0.0       0.0             u\n",
       "218  0.0  1.0  0.0       0.0  geartradebot\n",
       "219  0.0  0.0  0.0       0.0             u\n",
       "220  0.0  1.0  0.0       0.0     monica114\n",
       "\n",
       "[221 rows x 5 columns]"
      ]
     },
     "execution_count": 7,
     "metadata": {},
     "output_type": "execute_result"
    }
   ],
   "source": [
    "# Applying a sentiment analyzer (VADER)\n",
    "sia = SIA()\n",
    "results = []\n",
    "\n",
    "# get polarity score for words\n",
    "for word in lemmatized_tokens:\n",
    "    pol_score = sia.polarity_scores(word)\n",
    "    pol_score['words'] = word\n",
    "    results.append(pol_score)\n",
    "results\n",
    "\n",
    "pd.set_option('display.max_columns', None, 'max_colwidth', None)\n",
    "df = pd.DataFrame.from_records(results)\n",
    "df"
   ]
  },
  {
   "cell_type": "code",
   "execution_count": 8,
   "metadata": {},
   "outputs": [
    {
     "data": {
      "text/html": [
       "<div>\n",
       "<style scoped>\n",
       "    .dataframe tbody tr th:only-of-type {\n",
       "        vertical-align: middle;\n",
       "    }\n",
       "\n",
       "    .dataframe tbody tr th {\n",
       "        vertical-align: top;\n",
       "    }\n",
       "\n",
       "    .dataframe thead th {\n",
       "        text-align: right;\n",
       "    }\n",
       "</style>\n",
       "<table border=\"1\" class=\"dataframe\">\n",
       "  <thead>\n",
       "    <tr style=\"text-align: right;\">\n",
       "      <th></th>\n",
       "      <th>neg</th>\n",
       "      <th>neu</th>\n",
       "      <th>pos</th>\n",
       "      <th>compound</th>\n",
       "      <th>words</th>\n",
       "      <th>label</th>\n",
       "    </tr>\n",
       "  </thead>\n",
       "  <tbody>\n",
       "    <tr>\n",
       "      <th>0</th>\n",
       "      <td>0.0</td>\n",
       "      <td>1.0</td>\n",
       "      <td>0.0</td>\n",
       "      <td>0.0</td>\n",
       "      <td>additional</td>\n",
       "      <td>0</td>\n",
       "    </tr>\n",
       "    <tr>\n",
       "      <th>1</th>\n",
       "      <td>0.0</td>\n",
       "      <td>1.0</td>\n",
       "      <td>0.0</td>\n",
       "      <td>0.0</td>\n",
       "      <td>image</td>\n",
       "      <td>0</td>\n",
       "    </tr>\n",
       "    <tr>\n",
       "      <th>2</th>\n",
       "      <td>0.0</td>\n",
       "      <td>1.0</td>\n",
       "      <td>0.0</td>\n",
       "      <td>0.0</td>\n",
       "      <td>http</td>\n",
       "      <td>0</td>\n",
       "    </tr>\n",
       "    <tr>\n",
       "      <th>3</th>\n",
       "      <td>0.0</td>\n",
       "      <td>1.0</td>\n",
       "      <td>0.0</td>\n",
       "      <td>0.0</td>\n",
       "      <td>imgur</td>\n",
       "      <td>0</td>\n",
       "    </tr>\n",
       "    <tr>\n",
       "      <th>4</th>\n",
       "      <td>0.0</td>\n",
       "      <td>1.0</td>\n",
       "      <td>0.0</td>\n",
       "      <td>0.0</td>\n",
       "      <td>com</td>\n",
       "      <td>0</td>\n",
       "    </tr>\n",
       "  </tbody>\n",
       "</table>\n",
       "</div>"
      ],
      "text/plain": [
       "   neg  neu  pos  compound       words  label\n",
       "0  0.0  1.0  0.0       0.0  additional      0\n",
       "1  0.0  1.0  0.0       0.0       image      0\n",
       "2  0.0  1.0  0.0       0.0        http      0\n",
       "3  0.0  1.0  0.0       0.0       imgur      0\n",
       "4  0.0  1.0  0.0       0.0         com      0"
      ]
     },
     "execution_count": 8,
     "metadata": {},
     "output_type": "execute_result"
    }
   ],
   "source": [
    "# compound score as seen above is a normalized single unideimensional measure of sentiment for a given word.\n",
    "# adding a label column\n",
    "df['label'] = 0 # neutral\n",
    "df.loc[df['compound'] > 0.10, 'label'] = 1 # positive\n",
    "df.loc[df['compound'] < -0.10, 'label'] = -1 # negative\n",
    "df.head()"
   ]
  },
  {
   "cell_type": "code",
   "execution_count": 9,
   "metadata": {},
   "outputs": [
    {
     "data": {
      "text/plain": [
       "0    216\n",
       "1      5\n",
       "Name: label, dtype: int64"
      ]
     },
     "execution_count": 9,
     "metadata": {},
     "output_type": "execute_result"
    }
   ],
   "source": [
    "# how many words are neutral (0), positive (1) and negative (-1) in sentiment\n",
    "df.label.value_counts()"
   ]
  },
  {
   "attachments": {},
   "cell_type": "markdown",
   "metadata": {},
   "source": [
    "Most of them are neutral. Comments seem to be neutral - positive skewed.There are only 2 negative words.\n"
   ]
  },
  {
   "cell_type": "code",
   "execution_count": 318,
   "metadata": {},
   "outputs": [
    {
     "data": {
      "text/html": [
       "<div>\n",
       "<style scoped>\n",
       "    .dataframe tbody tr th:only-of-type {\n",
       "        vertical-align: middle;\n",
       "    }\n",
       "\n",
       "    .dataframe tbody tr th {\n",
       "        vertical-align: top;\n",
       "    }\n",
       "\n",
       "    .dataframe thead th {\n",
       "        text-align: right;\n",
       "    }\n",
       "</style>\n",
       "<table border=\"1\" class=\"dataframe\">\n",
       "  <thead>\n",
       "    <tr style=\"text-align: right;\">\n",
       "      <th></th>\n",
       "      <th>neg</th>\n",
       "      <th>neu</th>\n",
       "      <th>pos</th>\n",
       "      <th>compound</th>\n",
       "      <th>words</th>\n",
       "      <th>label</th>\n",
       "    </tr>\n",
       "  </thead>\n",
       "  <tbody>\n",
       "  </tbody>\n",
       "</table>\n",
       "</div>"
      ],
      "text/plain": [
       "Empty DataFrame\n",
       "Columns: [neg, neu, pos, compound, words, label]\n",
       "Index: []"
      ]
     },
     "execution_count": 318,
     "metadata": {},
     "output_type": "execute_result"
    }
   ],
   "source": [
    "# let's look at negative words\n",
    "df[df['label']== -1]"
   ]
  },
  {
   "cell_type": "code",
   "execution_count": 15,
   "metadata": {},
   "outputs": [
    {
     "ename": "ValueError",
     "evalue": "The number of FixedLocator locations (1), usually from a call to set_ticks, does not match the number of ticklabels (2).",
     "output_type": "error",
     "traceback": [
      "\u001b[1;31m---------------------------------------------------------------------------\u001b[0m",
      "\u001b[1;31mValueError\u001b[0m                                Traceback (most recent call last)",
      "\u001b[1;32mc:\\Users\\avanjavakam\\OneDrive - Moulton Niguel Water\\Documents\\R_Home\\Udacity_Data_Scientist_Nano_Degree\\lit_or_not_on_reddit\\set_up_notebook.ipynb Cell 14\u001b[0m in \u001b[0;36m<cell line: 9>\u001b[1;34m()\u001b[0m\n\u001b[0;32m      <a href='vscode-notebook-cell:/c%3A/Users/avanjavakam/OneDrive%20-%20Moulton%20Niguel%20Water/Documents/R_Home/Udacity_Data_Scientist_Nano_Degree/lit_or_not_on_reddit/set_up_notebook.ipynb#X16sZmlsZQ%3D%3D?line=4'>5</a>\u001b[0m counts \u001b[39m=\u001b[39m df\u001b[39m.\u001b[39mloc[df[\u001b[39m'\u001b[39m\u001b[39mlabel\u001b[39m\u001b[39m'\u001b[39m] \u001b[39m!=\u001b[39m \u001b[39m0\u001b[39m][\u001b[39m'\u001b[39m\u001b[39mlabel\u001b[39m\u001b[39m'\u001b[39m]\u001b[39m.\u001b[39mvalue_counts(normalize\u001b[39m=\u001b[39m\u001b[39mTrue\u001b[39;00m) \u001b[39m*\u001b[39m \u001b[39m100\u001b[39m\n\u001b[0;32m      <a href='vscode-notebook-cell:/c%3A/Users/avanjavakam/OneDrive%20-%20Moulton%20Niguel%20Water/Documents/R_Home/Udacity_Data_Scientist_Nano_Degree/lit_or_not_on_reddit/set_up_notebook.ipynb#X16sZmlsZQ%3D%3D?line=6'>7</a>\u001b[0m sns\u001b[39m.\u001b[39mbarplot(x \u001b[39m=\u001b[39m counts\u001b[39m.\u001b[39mindex, y \u001b[39m=\u001b[39m counts, ax \u001b[39m=\u001b[39m ax)\n\u001b[1;32m----> <a href='vscode-notebook-cell:/c%3A/Users/avanjavakam/OneDrive%20-%20Moulton%20Niguel%20Water/Documents/R_Home/Udacity_Data_Scientist_Nano_Degree/lit_or_not_on_reddit/set_up_notebook.ipynb#X16sZmlsZQ%3D%3D?line=8'>9</a>\u001b[0m ax\u001b[39m.\u001b[39;49mset_xticklabels([\u001b[39m'\u001b[39;49m\u001b[39mNegative\u001b[39;49m\u001b[39m'\u001b[39;49m, \u001b[39m'\u001b[39;49m\u001b[39mPositive\u001b[39;49m\u001b[39m'\u001b[39;49m])\n\u001b[0;32m     <a href='vscode-notebook-cell:/c%3A/Users/avanjavakam/OneDrive%20-%20Moulton%20Niguel%20Water/Documents/R_Home/Udacity_Data_Scientist_Nano_Degree/lit_or_not_on_reddit/set_up_notebook.ipynb#X16sZmlsZQ%3D%3D?line=9'>10</a>\u001b[0m ax\u001b[39m.\u001b[39mset_ylabel(\u001b[39m\"\u001b[39m\u001b[39mPercentage\u001b[39m\u001b[39m\"\u001b[39m)\n\u001b[0;32m     <a href='vscode-notebook-cell:/c%3A/Users/avanjavakam/OneDrive%20-%20Moulton%20Niguel%20Water/Documents/R_Home/Udacity_Data_Scientist_Nano_Degree/lit_or_not_on_reddit/set_up_notebook.ipynb#X16sZmlsZQ%3D%3D?line=10'>11</a>\u001b[0m \u001b[39mtype\u001b[39m(fig)\n",
      "File \u001b[1;32mc:\\Users\\avanjavakam\\.conda\\envs\\datascience\\lib\\site-packages\\matplotlib\\axes\\_base.py:75\u001b[0m, in \u001b[0;36m_axis_method_wrapper.__set_name__.<locals>.wrapper\u001b[1;34m(self, *args, **kwargs)\u001b[0m\n\u001b[0;32m     74\u001b[0m \u001b[39mdef\u001b[39;00m \u001b[39mwrapper\u001b[39m(\u001b[39mself\u001b[39m, \u001b[39m*\u001b[39margs, \u001b[39m*\u001b[39m\u001b[39m*\u001b[39mkwargs):\n\u001b[1;32m---> 75\u001b[0m     \u001b[39mreturn\u001b[39;00m get_method(\u001b[39mself\u001b[39m)(\u001b[39m*\u001b[39margs, \u001b[39m*\u001b[39m\u001b[39m*\u001b[39mkwargs)\n",
      "File \u001b[1;32mc:\\Users\\avanjavakam\\.conda\\envs\\datascience\\lib\\site-packages\\matplotlib\\axis.py:1798\u001b[0m, in \u001b[0;36mAxis._set_ticklabels\u001b[1;34m(self, labels, fontdict, minor, **kwargs)\u001b[0m\n\u001b[0;32m   1796\u001b[0m \u001b[39mif\u001b[39;00m fontdict \u001b[39mis\u001b[39;00m \u001b[39mnot\u001b[39;00m \u001b[39mNone\u001b[39;00m:\n\u001b[0;32m   1797\u001b[0m     kwargs\u001b[39m.\u001b[39mupdate(fontdict)\n\u001b[1;32m-> 1798\u001b[0m \u001b[39mreturn\u001b[39;00m \u001b[39mself\u001b[39m\u001b[39m.\u001b[39mset_ticklabels(labels, minor\u001b[39m=\u001b[39mminor, \u001b[39m*\u001b[39m\u001b[39m*\u001b[39mkwargs)\n",
      "File \u001b[1;32mc:\\Users\\avanjavakam\\.conda\\envs\\datascience\\lib\\site-packages\\matplotlib\\axis.py:1720\u001b[0m, in \u001b[0;36mAxis.set_ticklabels\u001b[1;34m(self, ticklabels, minor, **kwargs)\u001b[0m\n\u001b[0;32m   1716\u001b[0m \u001b[39mif\u001b[39;00m \u001b[39misinstance\u001b[39m(locator, mticker\u001b[39m.\u001b[39mFixedLocator):\n\u001b[0;32m   1717\u001b[0m     \u001b[39m# Passing [] as a list of ticklabels is often used as a way to\u001b[39;00m\n\u001b[0;32m   1718\u001b[0m     \u001b[39m# remove all tick labels, so only error for > 0 ticklabels\u001b[39;00m\n\u001b[0;32m   1719\u001b[0m     \u001b[39mif\u001b[39;00m \u001b[39mlen\u001b[39m(locator\u001b[39m.\u001b[39mlocs) \u001b[39m!=\u001b[39m \u001b[39mlen\u001b[39m(ticklabels) \u001b[39mand\u001b[39;00m \u001b[39mlen\u001b[39m(ticklabels) \u001b[39m!=\u001b[39m \u001b[39m0\u001b[39m:\n\u001b[1;32m-> 1720\u001b[0m         \u001b[39mraise\u001b[39;00m \u001b[39mValueError\u001b[39;00m(\n\u001b[0;32m   1721\u001b[0m             \u001b[39m\"\u001b[39m\u001b[39mThe number of FixedLocator locations\u001b[39m\u001b[39m\"\u001b[39m\n\u001b[0;32m   1722\u001b[0m             \u001b[39mf\u001b[39m\u001b[39m\"\u001b[39m\u001b[39m (\u001b[39m\u001b[39m{\u001b[39;00m\u001b[39mlen\u001b[39m(locator\u001b[39m.\u001b[39mlocs)\u001b[39m}\u001b[39;00m\u001b[39m), usually from a call to\u001b[39m\u001b[39m\"\u001b[39m\n\u001b[0;32m   1723\u001b[0m             \u001b[39m\"\u001b[39m\u001b[39m set_ticks, does not match\u001b[39m\u001b[39m\"\u001b[39m\n\u001b[0;32m   1724\u001b[0m             \u001b[39mf\u001b[39m\u001b[39m\"\u001b[39m\u001b[39m the number of ticklabels (\u001b[39m\u001b[39m{\u001b[39;00m\u001b[39mlen\u001b[39m(ticklabels)\u001b[39m}\u001b[39;00m\u001b[39m).\u001b[39m\u001b[39m\"\u001b[39m)\n\u001b[0;32m   1725\u001b[0m     tickd \u001b[39m=\u001b[39m {loc: lab \u001b[39mfor\u001b[39;00m loc, lab \u001b[39min\u001b[39;00m \u001b[39mzip\u001b[39m(locator\u001b[39m.\u001b[39mlocs, ticklabels)}\n\u001b[0;32m   1726\u001b[0m     func \u001b[39m=\u001b[39m functools\u001b[39m.\u001b[39mpartial(\u001b[39mself\u001b[39m\u001b[39m.\u001b[39m_format_with_dict, tickd)\n",
      "\u001b[1;31mValueError\u001b[0m: The number of FixedLocator locations (1), usually from a call to set_ticks, does not match the number of ticklabels (2)."
     ]
    },
    {
     "data": {
      "image/png": "[encoded data removed]",
      "text/plain": [
       "<Figure size 800x800 with 1 Axes>"
      ]
     },
     "metadata": {},
     "output_type": "display_data"
    }
   ],
   "source": [
    "# let's look at how many positive and negative words are found\n",
    "\n",
    "fig, ax = plt.subplots(figsize = (8,8))\n",
    "\n",
    "counts = df.loc[df['label'] != 0]['label'].value_counts(normalize=True) * 100\n",
    "\n",
    "sns.barplot(x = counts.index, y = counts, ax = ax)\n",
    "\n",
    "ax.set_xticklabels(['Negative', 'Positive'])\n",
    "ax.set_ylabel(\"Percentage\")\n",
    "type(fig)"
   ]
  },
  {
   "cell_type": "code",
   "execution_count": 17,
   "metadata": {},
   "outputs": [
    {
     "name": "stdout",
     "output_type": "stream",
     "text": [
      "1    100.0\n",
      "Name: label, dtype: float64\n",
      " 1    100.0\n",
      "-1      0.0\n",
      "Name: label, dtype: float64\n"
     ]
    }
   ],
   "source": [
    "# get percentage of postive and negative words in all the comments \n",
    "sentiment_perc_of_words = df.loc[df['label'] != 0]['label'].value_counts(normalize=True) * 100\n",
    "\n",
    "print(sentiment_perc_of_words)\n",
    "if sentiment_perc_of_words[1] == 100:\n",
    "    sentiment_perc_of_words[-1] = 0\n",
    "if sentiment_perc_of_words[-1] == 100:\n",
    "    sentiment_perc_of_words[1] = 0\n",
    "\n",
    "print(sentiment_perc_of_words)\n",
    "\n",
    "#print(round(sentiment_perc_of_words[1],2))\n",
    "#print(round(sentiment_perc_of_words[-1],2))\n"
   ]
  },
  {
   "cell_type": "code",
   "execution_count": 13,
   "metadata": {},
   "outputs": [
    {
     "data": {
      "text/plain": [
       "FreqDist({'happy': 1, 'good': 1, 'fan': 1, 'cheerlead': 1, 'sure': 1})"
      ]
     },
     "execution_count": 13,
     "metadata": {},
     "output_type": "execute_result"
    }
   ],
   "source": [
    "# Frequency distribution of the 20 most common positive words\n",
    "frequent_pos_words = FreqDist(df.loc[df['label'] == 1].words)\n",
    "frequent_pos_words\n"
   ]
  },
  {
   "cell_type": "code",
   "execution_count": 321,
   "metadata": {},
   "outputs": [
    {
     "data": {
      "text/plain": [
       "5"
      ]
     },
     "execution_count": 321,
     "metadata": {},
     "output_type": "execute_result"
    }
   ],
   "source": [
    "sum(frequent_pos_words.values())"
   ]
  },
  {
   "cell_type": "code",
   "execution_count": 18,
   "metadata": {},
   "outputs": [
    {
     "data": {
      "text/plain": [
       "[]"
      ]
     },
     "execution_count": 18,
     "metadata": {},
     "output_type": "execute_result"
    }
   ],
   "source": [
    "# Frequency distribution of the 20 most common negative words\n",
    "frequent_neg_words = FreqDist(df.loc[df['label'] == -1].words)\n",
    "frequent_neg_words.most_common(20)"
   ]
  },
  {
   "cell_type": "code",
   "execution_count": 326,
   "metadata": {},
   "outputs": [
    {
     "data": {
      "text/plain": [
       "{'green': ['happy', 'good', 'fan', 'cheerlead', 'sure'], 'red': []}"
      ]
     },
     "execution_count": 326,
     "metadata": {},
     "output_type": "execute_result"
    }
   ],
   "source": [
    "color_words_dict = {\n",
    "    'green': list(df.loc[df['label'] == 1].words),\n",
    "    'red': list(df.loc[df['label'] == -1].words)\n",
    "}\n",
    "\n",
    "# neutral words are grey\n",
    "default_color = 'grey'\n",
    "color_words_dict"
   ]
  },
  {
   "cell_type": "code",
   "execution_count": 19,
   "metadata": {},
   "outputs": [],
   "source": [
    "class SimpleGroupedColorFunc(object):\n",
    "    def __init__(self, color_to_words, default_color):\n",
    "        self.word_to_color = {word: color\n",
    "                              for (color, words) in color_to_words.items()\n",
    "                              for word in words}\n",
    "\n",
    "        self.default_color = default_color\n",
    "\n",
    "    def __call__(self, word, **kwargs):\n",
    "        return self.word_to_color.get(word, self.default_color)"
   ]
  },
  {
   "cell_type": "code",
   "execution_count": 325,
   "metadata": {},
   "outputs": [
    {
     "data": {
      "image/png": "[encoded data removed]",
      "text/plain": [
       "<Figure size 640x480 with 1 Axes>"
      ]
     },
     "metadata": {},
     "output_type": "display_data"
    }
   ],
   "source": [
    "wc = WordCloud(collocations=False, background_color='white').generate_from_frequencies(frequencies=FreqDist(df.words))\n",
    "\n",
    "grouped_color_func = SimpleGroupedColorFunc(color_words_dict, default_color)\n",
    "wc.recolor(color_func=grouped_color_func)\n",
    "plt.figure()\n",
    "plt.imshow(wc, interpolation='bilinear')\n",
    "plt.axis('off')\n",
    "plt.show()"
   ]
  },
  {
   "cell_type": "code",
   "execution_count": 22,
   "metadata": {},
   "outputs": [
    {
     "data": {
      "application/vnd.plotly.v1+json": {
       "config": {
        "plotlyServerURL": "https://plot.ly"
       },
       "data": [
        {
         "alignmentgroup": "True",
         "hovertemplate": "Bar Graph of Frequent Positive Words=%{x}<br>Count=%{y}<extra></extra>",
         "legendgroup": "",
         "marker": {
          "color": "#636efa",
          "pattern": {
           "shape": ""
          }
         },
         "name": "",
         "offsetgroup": "",
         "orientation": "v",
         "showlegend": false,
         "textposition": "auto",
         "type": "bar",
         "x": [
          "happy",
          "good",
          "fan",
          "cheerlead",
          "sure"
         ],
         "xaxis": "x",
         "y": [
          1,
          1,
          1,
          1,
          1
         ],
         "yaxis": "y"
        }
       ],
       "layout": {
        "barmode": "relative",
        "legend": {
         "tracegroupgap": 0
        },
        "template": {
         "data": {
          "bar": [
           {
            "error_x": {
             "color": "#2a3f5f"
            },
            "error_y": {
             "color": "#2a3f5f"
            },
            "marker": {
             "line": {
              "color": "#E5ECF6",
              "width": 0.5
             },
             "pattern": {
              "fillmode": "overlay",
              "size": 10,
              "solidity": 0.2
             }
            },
            "type": "bar"
           }
          ],
          "barpolar": [
           {
            "marker": {
             "line": {
              "color": "#E5ECF6",
              "width": 0.5
             },
             "pattern": {
              "fillmode": "overlay",
              "size": 10,
              "solidity": 0.2
             }
            },
            "type": "barpolar"
           }
          ],
          "carpet": [
           {
            "aaxis": {
             "endlinecolor": "#2a3f5f",
             "gridcolor": "white",
             "linecolor": "white",
             "minorgridcolor": "white",
             "startlinecolor": "#2a3f5f"
            },
            "baxis": {
             "endlinecolor": "#2a3f5f",
             "gridcolor": "white",
             "linecolor": "white",
             "minorgridcolor": "white",
             "startlinecolor": "#2a3f5f"
            },
            "type": "carpet"
           }
          ],
          "choropleth": [
           {
            "colorbar": {
             "outlinewidth": 0,
             "ticks": ""
            },
            "type": "choropleth"
           }
          ],
          "contour": [
           {
            "colorbar": {
             "outlinewidth": 0,
             "ticks": ""
            },
            "colorscale": [
             [
              0,
              "#0d0887"
             ],
             [
              0.1111111111111111,
              "#46039f"
             ],
             [
              0.2222222222222222,
              "#7201a8"
             ],
             [
              0.3333333333333333,
              "#9c179e"
             ],
             [
              0.4444444444444444,
              "#bd3786"
             ],
             [
              0.5555555555555556,
              "#d8576b"
             ],
             [
              0.6666666666666666,
              "#ed7953"
             ],
             [
              0.7777777777777778,
              "#fb9f3a"
             ],
             [
              0.8888888888888888,
              "#fdca26"
             ],
             [
              1,
              "#f0f921"
             ]
            ],
            "type": "contour"
           }
          ],
          "contourcarpet": [
           {
            "colorbar": {
             "outlinewidth": 0,
             "ticks": ""
            },
            "type": "contourcarpet"
           }
          ],
          "heatmap": [
           {
            "colorbar": {
             "outlinewidth": 0,
             "ticks": ""
            },
            "colorscale": [
             [
              0,
              "#0d0887"
             ],
             [
              0.1111111111111111,
              "#46039f"
             ],
             [
              0.2222222222222222,
              "#7201a8"
             ],
             [
              0.3333333333333333,
              "#9c179e"
             ],
             [
              0.4444444444444444,
              "#bd3786"
             ],
             [
              0.5555555555555556,
              "#d8576b"
             ],
             [
              0.6666666666666666,
              "#ed7953"
             ],
             [
              0.7777777777777778,
              "#fb9f3a"
             ],
             [
              0.8888888888888888,
              "#fdca26"
             ],
             [
              1,
              "#f0f921"
             ]
            ],
            "type": "heatmap"
           }
          ],
          "heatmapgl": [
           {
            "colorbar": {
             "outlinewidth": 0,
             "ticks": ""
            },
            "colorscale": [
             [
              0,
              "#0d0887"
             ],
             [
              0.1111111111111111,
              "#46039f"
             ],
             [
              0.2222222222222222,
              "#7201a8"
             ],
             [
              0.3333333333333333,
              "#9c179e"
             ],
             [
              0.4444444444444444,
              "#bd3786"
             ],
             [
              0.5555555555555556,
              "#d8576b"
             ],
             [
              0.6666666666666666,
              "#ed7953"
             ],
             [
              0.7777777777777778,
              "#fb9f3a"
             ],
             [
              0.8888888888888888,
              "#fdca26"
             ],
             [
              1,
              "#f0f921"
             ]
            ],
            "type": "heatmapgl"
           }
          ],
          "histogram": [
           {
            "marker": {
             "pattern": {
              "fillmode": "overlay",
              "size": 10,
              "solidity": 0.2
             }
            },
            "type": "histogram"
           }
          ],
          "histogram2d": [
           {
            "colorbar": {
             "outlinewidth": 0,
             "ticks": ""
            },
            "colorscale": [
             [
              0,
              "#0d0887"
             ],
             [
              0.1111111111111111,
              "#46039f"
             ],
             [
              0.2222222222222222,
              "#7201a8"
             ],
             [
              0.3333333333333333,
              "#9c179e"
             ],
             [
              0.4444444444444444,
              "#bd3786"
             ],
             [
              0.5555555555555556,
              "#d8576b"
             ],
             [
              0.6666666666666666,
              "#ed7953"
             ],
             [
              0.7777777777777778,
              "#fb9f3a"
             ],
             [
              0.8888888888888888,
              "#fdca26"
             ],
             [
              1,
              "#f0f921"
             ]
            ],
            "type": "histogram2d"
           }
          ],
          "histogram2dcontour": [
           {
            "colorbar": {
             "outlinewidth": 0,
             "ticks": ""
            },
            "colorscale": [
             [
              0,
              "#0d0887"
             ],
             [
              0.1111111111111111,
              "#46039f"
             ],
             [
              0.2222222222222222,
              "#7201a8"
             ],
             [
              0.3333333333333333,
              "#9c179e"
             ],
             [
              0.4444444444444444,
              "#bd3786"
             ],
             [
              0.5555555555555556,
              "#d8576b"
             ],
             [
              0.6666666666666666,
              "#ed7953"
             ],
             [
              0.7777777777777778,
              "#fb9f3a"
             ],
             [
              0.8888888888888888,
              "#fdca26"
             ],
             [
              1,
              "#f0f921"
             ]
            ],
            "type": "histogram2dcontour"
           }
          ],
          "mesh3d": [
           {
            "colorbar": {
             "outlinewidth": 0,
             "ticks": ""
            },
            "type": "mesh3d"
           }
          ],
          "parcoords": [
           {
            "line": {
             "colorbar": {
              "outlinewidth": 0,
              "ticks": ""
             }
            },
            "type": "parcoords"
           }
          ],
          "pie": [
           {
            "automargin": true,
            "type": "pie"
           }
          ],
          "scatter": [
           {
            "fillpattern": {
             "fillmode": "overlay",
             "size": 10,
             "solidity": 0.2
            },
            "type": "scatter"
           }
          ],
          "scatter3d": [
           {
            "line": {
             "colorbar": {
              "outlinewidth": 0,
              "ticks": ""
             }
            },
            "marker": {
             "colorbar": {
              "outlinewidth": 0,
              "ticks": ""
             }
            },
            "type": "scatter3d"
           }
          ],
          "scattercarpet": [
           {
            "marker": {
             "colorbar": {
              "outlinewidth": 0,
              "ticks": ""
             }
            },
            "type": "scattercarpet"
           }
          ],
          "scattergeo": [
           {
            "marker": {
             "colorbar": {
              "outlinewidth": 0,
              "ticks": ""
             }
            },
            "type": "scattergeo"
           }
          ],
          "scattergl": [
           {
            "marker": {
             "colorbar": {
              "outlinewidth": 0,
              "ticks": ""
             }
            },
            "type": "scattergl"
           }
          ],
          "scattermapbox": [
           {
            "marker": {
             "colorbar": {
              "outlinewidth": 0,
              "ticks": ""
             }
            },
            "type": "scattermapbox"
           }
          ],
          "scatterpolar": [
           {
            "marker": {
             "colorbar": {
              "outlinewidth": 0,
              "ticks": ""
             }
            },
            "type": "scatterpolar"
           }
          ],
          "scatterpolargl": [
           {
            "marker": {
             "colorbar": {
              "outlinewidth": 0,
              "ticks": ""
             }
            },
            "type": "scatterpolargl"
           }
          ],
          "scatterternary": [
           {
            "marker": {
             "colorbar": {
              "outlinewidth": 0,
              "ticks": ""
             }
            },
            "type": "scatterternary"
           }
          ],
          "surface": [
           {
            "colorbar": {
             "outlinewidth": 0,
             "ticks": ""
            },
            "colorscale": [
             [
              0,
              "#0d0887"
             ],
             [
              0.1111111111111111,
              "#46039f"
             ],
             [
              0.2222222222222222,
              "#7201a8"
             ],
             [
              0.3333333333333333,
              "#9c179e"
             ],
             [
              0.4444444444444444,
              "#bd3786"
             ],
             [
              0.5555555555555556,
              "#d8576b"
             ],
             [
              0.6666666666666666,
              "#ed7953"
             ],
             [
              0.7777777777777778,
              "#fb9f3a"
             ],
             [
              0.8888888888888888,
              "#fdca26"
             ],
             [
              1,
              "#f0f921"
             ]
            ],
            "type": "surface"
           }
          ],
          "table": [
           {
            "cells": {
             "fill": {
              "color": "#EBF0F8"
             },
             "line": {
              "color": "white"
             }
            },
            "header": {
             "fill": {
              "color": "#C8D4E3"
             },
             "line": {
              "color": "white"
             }
            },
            "type": "table"
           }
          ]
         },
         "layout": {
          "annotationdefaults": {
           "arrowcolor": "#2a3f5f",
           "arrowhead": 0,
           "arrowwidth": 1
          },
          "autotypenumbers": "strict",
          "coloraxis": {
           "colorbar": {
            "outlinewidth": 0,
            "ticks": ""
           }
          },
          "colorscale": {
           "diverging": [
            [
             0,
             "#8e0152"
            ],
            [
             0.1,
             "#c51b7d"
            ],
            [
             0.2,
             "#de77ae"
            ],
            [
             0.3,
             "#f1b6da"
            ],
            [
             0.4,
             "#fde0ef"
            ],
            [
             0.5,
             "#f7f7f7"
            ],
            [
             0.6,
             "#e6f5d0"
            ],
            [
             0.7,
             "#b8e186"
            ],
            [
             0.8,
             "#7fbc41"
            ],
            [
             0.9,
             "#4d9221"
            ],
            [
             1,
             "#276419"
            ]
           ],
           "sequential": [
            [
             0,
             "#0d0887"
            ],
            [
             0.1111111111111111,
             "#46039f"
            ],
            [
             0.2222222222222222,
             "#7201a8"
            ],
            [
             0.3333333333333333,
             "#9c179e"
            ],
            [
             0.4444444444444444,
             "#bd3786"
            ],
            [
             0.5555555555555556,
             "#d8576b"
            ],
            [
             0.6666666666666666,
             "#ed7953"
            ],
            [
             0.7777777777777778,
             "#fb9f3a"
            ],
            [
             0.8888888888888888,
             "#fdca26"
            ],
            [
             1,
             "#f0f921"
            ]
           ],
           "sequentialminus": [
            [
             0,
             "#0d0887"
            ],
            [
             0.1111111111111111,
             "#46039f"
            ],
            [
             0.2222222222222222,
             "#7201a8"
            ],
            [
             0.3333333333333333,
             "#9c179e"
            ],
            [
             0.4444444444444444,
             "#bd3786"
            ],
            [
             0.5555555555555556,
             "#d8576b"
            ],
            [
             0.6666666666666666,
             "#ed7953"
            ],
            [
             0.7777777777777778,
             "#fb9f3a"
            ],
            [
             0.8888888888888888,
             "#fdca26"
            ],
            [
             1,
             "#f0f921"
            ]
           ]
          },
          "colorway": [
           "#636efa",
           "#EF553B",
           "#00cc96",
           "#ab63fa",
           "#FFA15A",
           "#19d3f3",
           "#FF6692",
           "#B6E880",
           "#FF97FF",
           "#FECB52"
          ],
          "font": {
           "color": "#2a3f5f"
          },
          "geo": {
           "bgcolor": "white",
           "lakecolor": "white",
           "landcolor": "#E5ECF6",
           "showlakes": true,
           "showland": true,
           "subunitcolor": "white"
          },
          "hoverlabel": {
           "align": "left"
          },
          "hovermode": "closest",
          "mapbox": {
           "style": "light"
          },
          "paper_bgcolor": "white",
          "plot_bgcolor": "#E5ECF6",
          "polar": {
           "angularaxis": {
            "gridcolor": "white",
            "linecolor": "white",
            "ticks": ""
           },
           "bgcolor": "#E5ECF6",
           "radialaxis": {
            "gridcolor": "white",
            "linecolor": "white",
            "ticks": ""
           }
          },
          "scene": {
           "xaxis": {
            "backgroundcolor": "#E5ECF6",
            "gridcolor": "white",
            "gridwidth": 2,
            "linecolor": "white",
            "showbackground": true,
            "ticks": "",
            "zerolinecolor": "white"
           },
           "yaxis": {
            "backgroundcolor": "#E5ECF6",
            "gridcolor": "white",
            "gridwidth": 2,
            "linecolor": "white",
            "showbackground": true,
            "ticks": "",
            "zerolinecolor": "white"
           },
           "zaxis": {
            "backgroundcolor": "#E5ECF6",
            "gridcolor": "white",
            "gridwidth": 2,
            "linecolor": "white",
            "showbackground": true,
            "ticks": "",
            "zerolinecolor": "white"
           }
          },
          "shapedefaults": {
           "line": {
            "color": "#2a3f5f"
           }
          },
          "ternary": {
           "aaxis": {
            "gridcolor": "white",
            "linecolor": "white",
            "ticks": ""
           },
           "baxis": {
            "gridcolor": "white",
            "linecolor": "white",
            "ticks": ""
           },
           "bgcolor": "#E5ECF6",
           "caxis": {
            "gridcolor": "white",
            "linecolor": "white",
            "ticks": ""
           }
          },
          "title": {
           "x": 0.05
          },
          "xaxis": {
           "automargin": true,
           "gridcolor": "white",
           "linecolor": "white",
           "ticks": "",
           "title": {
            "standoff": 15
           },
           "zerolinecolor": "white",
           "zerolinewidth": 2
          },
          "yaxis": {
           "automargin": true,
           "gridcolor": "white",
           "linecolor": "white",
           "ticks": "",
           "title": {
            "standoff": 15
           },
           "zerolinecolor": "white",
           "zerolinewidth": 2
          }
         }
        },
        "title": {
         "text": "Commonly Used Positive Words Count"
        },
        "xaxis": {
         "anchor": "y",
         "domain": [
          0,
          1
         ],
         "title": {
          "text": "Bar Graph of Frequent Positive Words"
         }
        },
        "yaxis": {
         "anchor": "x",
         "domain": [
          0,
          1
         ],
         "title": {
          "text": "Count"
         }
        }
       }
      }
     },
     "metadata": {},
     "output_type": "display_data"
    },
    {
     "data": {
      "text/plain": [
       "plotly.graph_objs._figure.Figure"
      ]
     },
     "execution_count": 22,
     "metadata": {},
     "output_type": "execute_result"
    }
   ],
   "source": [
    "# how many common words to display\n",
    "no_of_words = 20\n",
    "\n",
    "# Most common positive words\n",
    "pos_freq_df = pd.DataFrame(frequent_pos_words.most_common(no_of_words))\n",
    "pos_freq_df = pos_freq_df.rename(columns = {0: \"Bar Graph of Frequent Positive Words\", 1: \"Count\"}, inplace=False)\n",
    "\n",
    "fig = px.bar(pos_freq_df, x = \"Bar Graph of Frequent Positive Words\", y = \"Count\", title = \"Commonly Used Positive Words Count\")\n",
    "\n",
    "fig.show()\n",
    "type(fig)"
   ]
  },
  {
   "cell_type": "code",
   "execution_count": 21,
   "metadata": {},
   "outputs": [
    {
     "data": {
      "text/plain": [
       "0"
      ]
     },
     "execution_count": 21,
     "metadata": {},
     "output_type": "execute_result"
    }
   ],
   "source": [
    "# Most common negative words\n",
    "\n",
    "neg_freq_df = pd.DataFrame(frequent_neg_words.most_common(no_of_words))\n",
    "len(neg_freq_df)\n",
    "\n",
    "\n",
    "#neg_freq_df = neg_freq_df.rename(columns = {0: \"Bar Graph of Frequent Negative Words\", 1: \"Count\"}, inplace=False)\n",
    "\n",
    "#fig = px.bar(neg_freq_df, x = \"Bar Graph of Frequent Negative Words\", y = \"Count\", title = \"Commonly Used Negative Words Count\")\n",
    "\n",
    "#fig.show()"
   ]
  },
  {
   "attachments": {},
   "cell_type": "markdown",
   "metadata": {},
   "source": [
    "Ideas for improvement:\n",
    "\n",
    "Try sentiment for sentences instead of words. There may be some sentences such a \"They try to take away my uncertainity and nervousness\" which is obviously positive but the individual words \"uncertainity\" and \"nervousness\" contribute more to negative score.\n",
    "\n",
    "Replies are not taken into consideration and only top-level comments are analyzed. Looping through multiple posts and comments and their nested replies is computationally expensive. So, I decided to trade off information in replies for faster extraction of only top-level comments across posts. This approach proved to be faster and accurate enough to get the overall product/platform/service sentiment rather than wait longer to get the results."
   ]
  },
  {
   "attachments": {},
   "cell_type": "markdown",
   "metadata": {},
   "source": [
    "References:\n",
    "- https://www.learndatasci.com/tutorials/predicting-reddit-news-sentiment-naive-bayes-text-classifiers/\n",
    "- https://www.nltk.org/\n",
    "- https://praw.readthedocs.io/en/latest/tutorials/comments.html#extracting-comments-with-praw\n",
    "- https://stackoverflow.com/questions/61919884/mapping-wordcloud-color-to-a-value-for-sentiment-analysis\n",
    "- https://www.learndatasci.com/tutorials/sentiment-analysis-reddit-headlines-pythons-nltk/\n",
    "- https://medium.com/analytics-vidhya/simplifying-social-media-sentiment-analysis-using-vader-in-python-f9e6ec6fc52f\n",
    "- https://docs.streamlit.io/\n",
    "\n"
   ]
  }
 ],
 "metadata": {
  "kernelspec": {
   "display_name": "datascience",
   "language": "python",
   "name": "python3"
  },
  "language_info": {
   "codemirror_mode": {
    "name": "ipython",
    "version": 3
   },
   "file_extension": ".py",
   "mimetype": "text/x-python",
   "name": "python",
   "nbconvert_exporter": "python",
   "pygments_lexer": "ipython3",
   "version": "3.10.4"
  },
  "orig_nbformat": 4
 },
 "nbformat": 4,
 "nbformat_minor": 2
}
